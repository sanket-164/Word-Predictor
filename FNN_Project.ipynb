{
  "nbformat": 4,
  "nbformat_minor": 0,
  "metadata": {
    "colab": {
      "provenance": [],
      "gpuType": "T4"
    },
    "kernelspec": {
      "name": "python3",
      "display_name": "Python 3"
    },
    "language_info": {
      "name": "python"
    },
    "accelerator": "GPU"
  },
  "cells": [
    {
      "cell_type": "code",
      "source": [
        "import pandas as pd\n",
        "\n",
        "true = pd.read_csv('True.csv', on_bad_lines='skip')"
      ],
      "metadata": {
        "id": "K1yvCb4B268F"
      },
      "execution_count": 1,
      "outputs": []
    },
    {
      "cell_type": "code",
      "source": [
        "true.info()"
      ],
      "metadata": {
        "colab": {
          "base_uri": "https://localhost:8080/"
        },
        "id": "WL0uUB6m74AC",
        "outputId": "41e49fab-da92-4683-f4f5-6d203d8ba9d3"
      },
      "execution_count": 2,
      "outputs": [
        {
          "output_type": "stream",
          "name": "stdout",
          "text": [
            "<class 'pandas.core.frame.DataFrame'>\n",
            "RangeIndex: 3703 entries, 0 to 3702\n",
            "Data columns (total 4 columns):\n",
            " #   Column   Non-Null Count  Dtype \n",
            "---  ------   --------------  ----- \n",
            " 0   title    3703 non-null   object\n",
            " 1   text     3703 non-null   object\n",
            " 2   subject  3702 non-null   object\n",
            " 3   date     3702 non-null   object\n",
            "dtypes: object(4)\n",
            "memory usage: 115.8+ KB\n"
          ]
        }
      ]
    },
    {
      "cell_type": "code",
      "source": [
        "true = true[:100]\n",
        "true.head()"
      ],
      "metadata": {
        "colab": {
          "base_uri": "https://localhost:8080/",
          "height": 206
        },
        "id": "zGDa-f8r3ZeQ",
        "outputId": "4ea188ba-14d3-41c7-d248-b339c321651c"
      },
      "execution_count": 3,
      "outputs": [
        {
          "output_type": "execute_result",
          "data": {
            "text/plain": [
              "                                               title  \\\n",
              "0  As U.S. budget fight looms, Republicans flip t...   \n",
              "1  U.S. military to accept transgender recruits o...   \n",
              "2  Senior U.S. Republican senator: 'Let Mr. Muell...   \n",
              "3  FBI Russia probe helped by Australian diplomat...   \n",
              "4  Trump wants Postal Service to charge 'much mor...   \n",
              "\n",
              "                                                text       subject  \\\n",
              "0  WASHINGTON (Reuters) - The head of a conservat...  politicsNews   \n",
              "1  WASHINGTON (Reuters) - Transgender people will...  politicsNews   \n",
              "2  WASHINGTON (Reuters) - The special counsel inv...  politicsNews   \n",
              "3  WASHINGTON (Reuters) - Trump campaign adviser ...  politicsNews   \n",
              "4  SEATTLE/WASHINGTON (Reuters) - President Donal...  politicsNews   \n",
              "\n",
              "                 date  \n",
              "0  December 31, 2017   \n",
              "1  December 29, 2017   \n",
              "2  December 31, 2017   \n",
              "3  December 30, 2017   \n",
              "4  December 29, 2017   "
            ],
            "text/html": [
              "\n",
              "  <div id=\"df-2148aa02-9ea7-428d-86f8-40a2649691f3\" class=\"colab-df-container\">\n",
              "    <div>\n",
              "<style scoped>\n",
              "    .dataframe tbody tr th:only-of-type {\n",
              "        vertical-align: middle;\n",
              "    }\n",
              "\n",
              "    .dataframe tbody tr th {\n",
              "        vertical-align: top;\n",
              "    }\n",
              "\n",
              "    .dataframe thead th {\n",
              "        text-align: right;\n",
              "    }\n",
              "</style>\n",
              "<table border=\"1\" class=\"dataframe\">\n",
              "  <thead>\n",
              "    <tr style=\"text-align: right;\">\n",
              "      <th></th>\n",
              "      <th>title</th>\n",
              "      <th>text</th>\n",
              "      <th>subject</th>\n",
              "      <th>date</th>\n",
              "    </tr>\n",
              "  </thead>\n",
              "  <tbody>\n",
              "    <tr>\n",
              "      <th>0</th>\n",
              "      <td>As U.S. budget fight looms, Republicans flip t...</td>\n",
              "      <td>WASHINGTON (Reuters) - The head of a conservat...</td>\n",
              "      <td>politicsNews</td>\n",
              "      <td>December 31, 2017</td>\n",
              "    </tr>\n",
              "    <tr>\n",
              "      <th>1</th>\n",
              "      <td>U.S. military to accept transgender recruits o...</td>\n",
              "      <td>WASHINGTON (Reuters) - Transgender people will...</td>\n",
              "      <td>politicsNews</td>\n",
              "      <td>December 29, 2017</td>\n",
              "    </tr>\n",
              "    <tr>\n",
              "      <th>2</th>\n",
              "      <td>Senior U.S. Republican senator: 'Let Mr. Muell...</td>\n",
              "      <td>WASHINGTON (Reuters) - The special counsel inv...</td>\n",
              "      <td>politicsNews</td>\n",
              "      <td>December 31, 2017</td>\n",
              "    </tr>\n",
              "    <tr>\n",
              "      <th>3</th>\n",
              "      <td>FBI Russia probe helped by Australian diplomat...</td>\n",
              "      <td>WASHINGTON (Reuters) - Trump campaign adviser ...</td>\n",
              "      <td>politicsNews</td>\n",
              "      <td>December 30, 2017</td>\n",
              "    </tr>\n",
              "    <tr>\n",
              "      <th>4</th>\n",
              "      <td>Trump wants Postal Service to charge 'much mor...</td>\n",
              "      <td>SEATTLE/WASHINGTON (Reuters) - President Donal...</td>\n",
              "      <td>politicsNews</td>\n",
              "      <td>December 29, 2017</td>\n",
              "    </tr>\n",
              "  </tbody>\n",
              "</table>\n",
              "</div>\n",
              "    <div class=\"colab-df-buttons\">\n",
              "\n",
              "  <div class=\"colab-df-container\">\n",
              "    <button class=\"colab-df-convert\" onclick=\"convertToInteractive('df-2148aa02-9ea7-428d-86f8-40a2649691f3')\"\n",
              "            title=\"Convert this dataframe to an interactive table.\"\n",
              "            style=\"display:none;\">\n",
              "\n",
              "  <svg xmlns=\"http://www.w3.org/2000/svg\" height=\"24px\" viewBox=\"0 -960 960 960\">\n",
              "    <path d=\"M120-120v-720h720v720H120Zm60-500h600v-160H180v160Zm220 220h160v-160H400v160Zm0 220h160v-160H400v160ZM180-400h160v-160H180v160Zm440 0h160v-160H620v160ZM180-180h160v-160H180v160Zm440 0h160v-160H620v160Z\"/>\n",
              "  </svg>\n",
              "    </button>\n",
              "\n",
              "  <style>\n",
              "    .colab-df-container {\n",
              "      display:flex;\n",
              "      gap: 12px;\n",
              "    }\n",
              "\n",
              "    .colab-df-convert {\n",
              "      background-color: #E8F0FE;\n",
              "      border: none;\n",
              "      border-radius: 50%;\n",
              "      cursor: pointer;\n",
              "      display: none;\n",
              "      fill: #1967D2;\n",
              "      height: 32px;\n",
              "      padding: 0 0 0 0;\n",
              "      width: 32px;\n",
              "    }\n",
              "\n",
              "    .colab-df-convert:hover {\n",
              "      background-color: #E2EBFA;\n",
              "      box-shadow: 0px 1px 2px rgba(60, 64, 67, 0.3), 0px 1px 3px 1px rgba(60, 64, 67, 0.15);\n",
              "      fill: #174EA6;\n",
              "    }\n",
              "\n",
              "    .colab-df-buttons div {\n",
              "      margin-bottom: 4px;\n",
              "    }\n",
              "\n",
              "    [theme=dark] .colab-df-convert {\n",
              "      background-color: #3B4455;\n",
              "      fill: #D2E3FC;\n",
              "    }\n",
              "\n",
              "    [theme=dark] .colab-df-convert:hover {\n",
              "      background-color: #434B5C;\n",
              "      box-shadow: 0px 1px 3px 1px rgba(0, 0, 0, 0.15);\n",
              "      filter: drop-shadow(0px 1px 2px rgba(0, 0, 0, 0.3));\n",
              "      fill: #FFFFFF;\n",
              "    }\n",
              "  </style>\n",
              "\n",
              "    <script>\n",
              "      const buttonEl =\n",
              "        document.querySelector('#df-2148aa02-9ea7-428d-86f8-40a2649691f3 button.colab-df-convert');\n",
              "      buttonEl.style.display =\n",
              "        google.colab.kernel.accessAllowed ? 'block' : 'none';\n",
              "\n",
              "      async function convertToInteractive(key) {\n",
              "        const element = document.querySelector('#df-2148aa02-9ea7-428d-86f8-40a2649691f3');\n",
              "        const dataTable =\n",
              "          await google.colab.kernel.invokeFunction('convertToInteractive',\n",
              "                                                    [key], {});\n",
              "        if (!dataTable) return;\n",
              "\n",
              "        const docLinkHtml = 'Like what you see? Visit the ' +\n",
              "          '<a target=\"_blank\" href=https://colab.research.google.com/notebooks/data_table.ipynb>data table notebook</a>'\n",
              "          + ' to learn more about interactive tables.';\n",
              "        element.innerHTML = '';\n",
              "        dataTable['output_type'] = 'display_data';\n",
              "        await google.colab.output.renderOutput(dataTable, element);\n",
              "        const docLink = document.createElement('div');\n",
              "        docLink.innerHTML = docLinkHtml;\n",
              "        element.appendChild(docLink);\n",
              "      }\n",
              "    </script>\n",
              "  </div>\n",
              "\n",
              "\n",
              "<div id=\"df-0786629e-6f8e-4a65-8bdc-2dea76abe433\">\n",
              "  <button class=\"colab-df-quickchart\" onclick=\"quickchart('df-0786629e-6f8e-4a65-8bdc-2dea76abe433')\"\n",
              "            title=\"Suggest charts\"\n",
              "            style=\"display:none;\">\n",
              "\n",
              "<svg xmlns=\"http://www.w3.org/2000/svg\" height=\"24px\"viewBox=\"0 0 24 24\"\n",
              "     width=\"24px\">\n",
              "    <g>\n",
              "        <path d=\"M19 3H5c-1.1 0-2 .9-2 2v14c0 1.1.9 2 2 2h14c1.1 0 2-.9 2-2V5c0-1.1-.9-2-2-2zM9 17H7v-7h2v7zm4 0h-2V7h2v10zm4 0h-2v-4h2v4z\"/>\n",
              "    </g>\n",
              "</svg>\n",
              "  </button>\n",
              "\n",
              "<style>\n",
              "  .colab-df-quickchart {\n",
              "      --bg-color: #E8F0FE;\n",
              "      --fill-color: #1967D2;\n",
              "      --hover-bg-color: #E2EBFA;\n",
              "      --hover-fill-color: #174EA6;\n",
              "      --disabled-fill-color: #AAA;\n",
              "      --disabled-bg-color: #DDD;\n",
              "  }\n",
              "\n",
              "  [theme=dark] .colab-df-quickchart {\n",
              "      --bg-color: #3B4455;\n",
              "      --fill-color: #D2E3FC;\n",
              "      --hover-bg-color: #434B5C;\n",
              "      --hover-fill-color: #FFFFFF;\n",
              "      --disabled-bg-color: #3B4455;\n",
              "      --disabled-fill-color: #666;\n",
              "  }\n",
              "\n",
              "  .colab-df-quickchart {\n",
              "    background-color: var(--bg-color);\n",
              "    border: none;\n",
              "    border-radius: 50%;\n",
              "    cursor: pointer;\n",
              "    display: none;\n",
              "    fill: var(--fill-color);\n",
              "    height: 32px;\n",
              "    padding: 0;\n",
              "    width: 32px;\n",
              "  }\n",
              "\n",
              "  .colab-df-quickchart:hover {\n",
              "    background-color: var(--hover-bg-color);\n",
              "    box-shadow: 0 1px 2px rgba(60, 64, 67, 0.3), 0 1px 3px 1px rgba(60, 64, 67, 0.15);\n",
              "    fill: var(--button-hover-fill-color);\n",
              "  }\n",
              "\n",
              "  .colab-df-quickchart-complete:disabled,\n",
              "  .colab-df-quickchart-complete:disabled:hover {\n",
              "    background-color: var(--disabled-bg-color);\n",
              "    fill: var(--disabled-fill-color);\n",
              "    box-shadow: none;\n",
              "  }\n",
              "\n",
              "  .colab-df-spinner {\n",
              "    border: 2px solid var(--fill-color);\n",
              "    border-color: transparent;\n",
              "    border-bottom-color: var(--fill-color);\n",
              "    animation:\n",
              "      spin 1s steps(1) infinite;\n",
              "  }\n",
              "\n",
              "  @keyframes spin {\n",
              "    0% {\n",
              "      border-color: transparent;\n",
              "      border-bottom-color: var(--fill-color);\n",
              "      border-left-color: var(--fill-color);\n",
              "    }\n",
              "    20% {\n",
              "      border-color: transparent;\n",
              "      border-left-color: var(--fill-color);\n",
              "      border-top-color: var(--fill-color);\n",
              "    }\n",
              "    30% {\n",
              "      border-color: transparent;\n",
              "      border-left-color: var(--fill-color);\n",
              "      border-top-color: var(--fill-color);\n",
              "      border-right-color: var(--fill-color);\n",
              "    }\n",
              "    40% {\n",
              "      border-color: transparent;\n",
              "      border-right-color: var(--fill-color);\n",
              "      border-top-color: var(--fill-color);\n",
              "    }\n",
              "    60% {\n",
              "      border-color: transparent;\n",
              "      border-right-color: var(--fill-color);\n",
              "    }\n",
              "    80% {\n",
              "      border-color: transparent;\n",
              "      border-right-color: var(--fill-color);\n",
              "      border-bottom-color: var(--fill-color);\n",
              "    }\n",
              "    90% {\n",
              "      border-color: transparent;\n",
              "      border-bottom-color: var(--fill-color);\n",
              "    }\n",
              "  }\n",
              "</style>\n",
              "\n",
              "  <script>\n",
              "    async function quickchart(key) {\n",
              "      const quickchartButtonEl =\n",
              "        document.querySelector('#' + key + ' button');\n",
              "      quickchartButtonEl.disabled = true;  // To prevent multiple clicks.\n",
              "      quickchartButtonEl.classList.add('colab-df-spinner');\n",
              "      try {\n",
              "        const charts = await google.colab.kernel.invokeFunction(\n",
              "            'suggestCharts', [key], {});\n",
              "      } catch (error) {\n",
              "        console.error('Error during call to suggestCharts:', error);\n",
              "      }\n",
              "      quickchartButtonEl.classList.remove('colab-df-spinner');\n",
              "      quickchartButtonEl.classList.add('colab-df-quickchart-complete');\n",
              "    }\n",
              "    (() => {\n",
              "      let quickchartButtonEl =\n",
              "        document.querySelector('#df-0786629e-6f8e-4a65-8bdc-2dea76abe433 button');\n",
              "      quickchartButtonEl.style.display =\n",
              "        google.colab.kernel.accessAllowed ? 'block' : 'none';\n",
              "    })();\n",
              "  </script>\n",
              "</div>\n",
              "\n",
              "    </div>\n",
              "  </div>\n"
            ],
            "application/vnd.google.colaboratory.intrinsic+json": {
              "type": "dataframe",
              "variable_name": "true",
              "summary": "{\n  \"name\": \"true\",\n  \"rows\": 100,\n  \"fields\": [\n    {\n      \"column\": \"title\",\n      \"properties\": {\n        \"dtype\": \"string\",\n        \"num_unique_values\": 100,\n        \"samples\": [\n          \"Senate panel snubs Trump's pick to run EXIM, OKs other nominees\",\n          \"U.S. lawmakers seek temporary extension to internet spying program\",\n          \"Trump on Twitter (Dec 20) - Tax Bill\"\n        ],\n        \"semantic_type\": \"\",\n        \"description\": \"\"\n      }\n    },\n    {\n      \"column\": \"text\",\n      \"properties\": {\n        \"dtype\": \"string\",\n        \"num_unique_values\": 100,\n        \"samples\": [\n          \"WASHINGTON (Reuters) - The U.S. Senate Banking Committee rejected U.S. President Donald Trump\\u2019s nominee to head the U.S. Export-Import Bank on Tuesday  but approved four other board nominees, enough to restore the trade bank\\u2019s full lending powers upon their confirmation by the full Senate. The committee voted 13-10 against Scott Garrett as EXIM president in a rebuke to conservatives who saw the former New Jersey Republican congressman as an ally who would keep tight controls on the government export lender.  Garrett helped lead a 2015 effort to shut down EXIM to end a source of \\u201ccorporate welfare\\u201d for giant manufacturers such as Boeing Co and General Electric. After his nomination he pledged to keep the bank \\u201cfully open\\u201d but struggled to persuade senators that he now believed in the bank\\u2019s core mission of providing taxpayer-backed loans and guarantees for U.S. export transactions. \\u201cI believe he\\u2019s a principled man who simply believes in the abolishment of the bank,\\u201d said Senator Mike Rounds of South Dakota, who voted against Garrett along with South Carolina Republican Tim Scott and all Democrats on the panel. The White House\\u2019s director of legislative affairs, Marc Short, commented, \\u201cWe are disappointed that the Senate Banking Committee missed this opportunity to get the Export Import Bank fully functioning again. We will continue to work with the committee on a path forward.\\u201d  The committee, however, approved Trump\\u2019s nominations for EXIM\\u2019s first vice president, Kimberly Reed, and three other board members: former Louisiana congressman Spencer Bachus, Claudia Slacik and Judith DelZoppo Pryor. It also approved Mark Greenblatt as the agency\\u2019s inspector general. Confirmation of at least three board members will allow EXIM to resume approval of loans and guarantees above $10 million, returning the United States to export financing for major projects such as commercial aircraft, power turbines and  petrochemical plants for the first time since June 2015.  GE in a statement urged quick confirmation of the remaining EXIM nominees and hailed the committee vote as \\u201ca milestone for manufacturers across the U.S. whose customers require a fully-functioning EXIM Bank.\\u201d EXIM has a $42 billion backlog of deals in its pipeline awaiting approval, representing about 250,000 U.S. jobs based on Bureau of Labor Statistics multiplier data, said Scott Schloegel, an Obama administration appointee who still serves as the bank\\u2019s top officer.     Schloegel said with EXIM\\u2019s extended absence from large-scale export finance, many U.S. exporters have been unable to compete with China for some major projects in the power and technology sectors. \",\n          \"WASHINGTON (Reuters) - Republican leaders in the U.S. House of Representatives are working to build support to temporarily extend the National Security Agency\\u2019s expiring internet surveillance program by tucking it into a stop-gap funding measure, lawmakers said. The month-long extension of the surveillance law, known as Section 702 of the Foreign Intelligence Surveillance Act, would punt a contentious national security issue into the new year in an attempt to buy lawmakers more time to hash out differences over various proposed privacy reforms.  Lawmakers leaving a Republican conference meeting on Wednesday evening said it was not clear whether the stop-gap bill had enough support to avert a partial government shutdown on Saturday, or whether the possible addition of the Section 702 extension would impact its chances for passage. It remained possible lawmakers would vote on the short-term extension separate from the spending bill. Absent congressional action the law, which allows the NSA to collect vast amounts of digital communications from foreign suspects living outside the United States, will expire on Dec. 31.  Earlier in the day, House Republicans retreated from a plan to vote on a stand-alone measure to renew Section 702 until 2021 amid sizable opposition from both parties that stemmed from concerns the bill would violate U.S. privacy rights. Some U.S. officials have recently said that deadline may not ultimately matter and that the program can lawfully continue through April due to the way it is annually certified. But lawmakers and the White House still view the law\\u2019s end-year expiration as significant.  \\u201cI think clearly we need the reauthorization for FISA, and that is expected we\\u2019ll get that done\\u201d before the end of the year, Marc Short, the White House\\u2019s legislative director, said Wednesday on MSNBC. U.S. intelligence officials consider Section 702 among the most vital of tools at their disposal to thwart threats to national security and American allies. The law allows the NSA to collect vast amounts of digital communications from foreign suspects living outside the United States. But the program incidentally gathers communications of Americans for a variety of technical reasons, including if they communicate with a foreign target living overseas.  Those communications can then be subject to searches without a warrant, including by the Federal Bureau of Investigation. The House Judiciary Committee advanced a bill in November that would partially restrict the U.S. government\\u2019s ability to review American data by requiring a warrant in some cases. (This story has been refiled to correct typographical error in headline) \",\n          \"The following statements\\u00a0were posted to the verified Twitter accounts of U.S. President Donald Trump, @realDonaldTrump and @POTUS.  The opinions expressed are his own.\\u00a0Reuters has not edited the statements or confirmed their accuracy.  @realDonaldTrump : - The United States Senate just passed the biggest in history Tax Cut and Reform Bill. Terrible Individual Mandate (ObamaCare)Repealed. Goes to the House tomorrow morning for final vote. If approved, there will be a News Conference at The White House at approximately 1:00 P.M. [0109 EST] - The Tax Cuts are so large and so meaningful, and yet the Fake News is working overtime to follow the lead of their friends, the defeated Dems, and only demean. This is truly a case where the results will speak for themselves, starting very soon. Jobs, Jobs, Jobs! [0932 EST] - I would like to congratulate @SenateMajLdr on having done a fantastic job both strategically & politically on the passing in the Senate of the MASSIVE TAX CUT & Reform Bill. I could have not asked for a better or more talented partner. Our team will go onto many more VICTORIES! [1139 EST] - Together, we are MAKING AMERICA GREAT AGAIN! [1230 EST] - We are delivering HISTORIC TAX RELIEF for the American people! #TaxCutsandJobsAct  [1309 EST] -- Source link: (bit.ly/2jBh4LU) (bit.ly/2jpEXYR) \"\n        ],\n        \"semantic_type\": \"\",\n        \"description\": \"\"\n      }\n    },\n    {\n      \"column\": \"subject\",\n      \"properties\": {\n        \"dtype\": \"category\",\n        \"num_unique_values\": 1,\n        \"samples\": [\n          \"politicsNews\"\n        ],\n        \"semantic_type\": \"\",\n        \"description\": \"\"\n      }\n    },\n    {\n      \"column\": \"date\",\n      \"properties\": {\n        \"dtype\": \"object\",\n        \"num_unique_values\": 14,\n        \"samples\": [\n          \"December 22, 2017 \"\n        ],\n        \"semantic_type\": \"\",\n        \"description\": \"\"\n      }\n    }\n  ]\n}"
            }
          },
          "metadata": {},
          "execution_count": 3
        }
      ]
    },
    {
      "cell_type": "code",
      "source": [
        "all_text = '\\n'.join(true['text'])"
      ],
      "metadata": {
        "id": "QkwnYI943tDo"
      },
      "execution_count": 4,
      "outputs": []
    },
    {
      "cell_type": "code",
      "execution_count": 5,
      "metadata": {
        "id": "H7ix4p-Kcer1"
      },
      "outputs": [],
      "source": [
        "import tensorflow\n",
        "from tensorflow.keras.preprocessing.text import Tokenizer"
      ]
    },
    {
      "cell_type": "code",
      "source": [
        "tokenizer = Tokenizer()"
      ],
      "metadata": {
        "id": "DN0hzpukcto7"
      },
      "execution_count": 6,
      "outputs": []
    },
    {
      "cell_type": "code",
      "source": [
        "tokenizer.fit_on_texts([all_text])"
      ],
      "metadata": {
        "id": "RwlvvpK5mrRL"
      },
      "execution_count": 7,
      "outputs": []
    },
    {
      "cell_type": "code",
      "source": [
        "len(tokenizer.word_index)"
      ],
      "metadata": {
        "colab": {
          "base_uri": "https://localhost:8080/"
        },
        "id": "qkFBbNS1nyZm",
        "outputId": "7155efcc-4553-4937-911a-6bc82db11a18"
      },
      "execution_count": 8,
      "outputs": [
        {
          "output_type": "execute_result",
          "data": {
            "text/plain": [
              "6042"
            ]
          },
          "metadata": {},
          "execution_count": 8
        }
      ]
    },
    {
      "cell_type": "code",
      "source": [
        "input_sequences = []\n",
        "for sentence in all_text.split('\\n'):\n",
        "  tokenized_sentence = tokenizer.texts_to_sequences([sentence])[0]\n",
        "\n",
        "  for i in range(1,len(tokenized_sentence)):\n",
        "    input_sequences.append(tokenized_sentence[:i+1])"
      ],
      "metadata": {
        "id": "l8AsTX2Xn0fA"
      },
      "execution_count": 9,
      "outputs": []
    },
    {
      "cell_type": "code",
      "source": [
        "max_len = max([len(x) for x in input_sequences])"
      ],
      "metadata": {
        "id": "ztCdenEQr-yY"
      },
      "execution_count": 11,
      "outputs": []
    },
    {
      "cell_type": "code",
      "source": [
        "from tensorflow.keras.preprocessing.sequence import pad_sequences\n",
        "padded_input_sequences = pad_sequences(input_sequences, maxlen=max_len, padding='pre')"
      ],
      "metadata": {
        "id": "QAXn8DPptPEl"
      },
      "execution_count": 12,
      "outputs": []
    },
    {
      "cell_type": "code",
      "source": [
        "padded_input_sequences"
      ],
      "metadata": {
        "colab": {
          "base_uri": "https://localhost:8080/"
        },
        "id": "369Efk8rtge7",
        "outputId": "cea8552d-9350-4162-9271-9621586aaa0c"
      },
      "execution_count": 13,
      "outputs": [
        {
          "output_type": "execute_result",
          "data": {
            "text/plain": [
              "array([[   0,    0,    0, ...,    0,   52,   45],\n",
              "       [   0,    0,    0, ...,   52,   45,    1],\n",
              "       [   0,    0,    0, ...,   45,    1, 1341],\n",
              "       ...,\n",
              "       [   0,    0,    0, ...,  182,   10,    5],\n",
              "       [   0,    0,    0, ...,   10,    5,   34],\n",
              "       [   0,    0,    0, ...,    5,   34,  359]], dtype=int32)"
            ]
          },
          "metadata": {},
          "execution_count": 13
        }
      ]
    },
    {
      "cell_type": "code",
      "source": [
        "X = padded_input_sequences[:, :-1]"
      ],
      "metadata": {
        "id": "M-L7zzjrtsdp"
      },
      "execution_count": 14,
      "outputs": []
    },
    {
      "cell_type": "code",
      "source": [
        "y = padded_input_sequences[:,-1]"
      ],
      "metadata": {
        "id": "hWXpE8ILt6X4"
      },
      "execution_count": 15,
      "outputs": []
    },
    {
      "cell_type": "code",
      "source": [
        "X.shape"
      ],
      "metadata": {
        "colab": {
          "base_uri": "https://localhost:8080/"
        },
        "id": "d8gCw9yFuW3H",
        "outputId": "0f679096-0181-4153-90f3-260671c4931a"
      },
      "execution_count": 16,
      "outputs": [
        {
          "output_type": "execute_result",
          "data": {
            "text/plain": [
              "(43034, 1400)"
            ]
          },
          "metadata": {},
          "execution_count": 16
        }
      ]
    },
    {
      "cell_type": "code",
      "source": [
        "y.shape"
      ],
      "metadata": {
        "colab": {
          "base_uri": "https://localhost:8080/"
        },
        "id": "Mu5G0rbguxVG",
        "outputId": "99640ad9-e37b-471e-9e9e-a4872a8e0724"
      },
      "execution_count": 17,
      "outputs": [
        {
          "output_type": "execute_result",
          "data": {
            "text/plain": [
              "(43034,)"
            ]
          },
          "metadata": {},
          "execution_count": 17
        }
      ]
    },
    {
      "cell_type": "code",
      "source": [
        "from tensorflow.keras.utils import to_categorical\n",
        "y = to_categorical(y,num_classes=y.max() + 1)"
      ],
      "metadata": {
        "id": "5Gjhy8bkuyMw"
      },
      "execution_count": 18,
      "outputs": []
    },
    {
      "cell_type": "code",
      "source": [
        "y.shape"
      ],
      "metadata": {
        "colab": {
          "base_uri": "https://localhost:8080/"
        },
        "id": "c3wVelTivBaO",
        "outputId": "2a0ab90d-5a5a-4537-9469-e8b255f268cd"
      },
      "execution_count": 19,
      "outputs": [
        {
          "output_type": "execute_result",
          "data": {
            "text/plain": [
              "(43034, 6043)"
            ]
          },
          "metadata": {},
          "execution_count": 19
        }
      ]
    },
    {
      "cell_type": "code",
      "source": [
        "y"
      ],
      "metadata": {
        "colab": {
          "base_uri": "https://localhost:8080/"
        },
        "id": "e4HUYJ19vyPv",
        "outputId": "12e1b3ef-4633-4c1a-9329-396c895a1f6a"
      },
      "execution_count": 20,
      "outputs": [
        {
          "output_type": "execute_result",
          "data": {
            "text/plain": [
              "array([[0., 0., 0., ..., 0., 0., 0.],\n",
              "       [0., 1., 0., ..., 0., 0., 0.],\n",
              "       [0., 0., 0., ..., 0., 0., 0.],\n",
              "       ...,\n",
              "       [0., 0., 0., ..., 0., 0., 0.],\n",
              "       [0., 0., 0., ..., 0., 0., 0.],\n",
              "       [0., 0., 0., ..., 0., 0., 0.]])"
            ]
          },
          "metadata": {},
          "execution_count": 20
        }
      ]
    },
    {
      "cell_type": "code",
      "source": [
        "from tensorflow.keras.models import Sequential\n",
        "from tensorflow.keras.layers import Embedding, LSTM, Dense\n",
        "from tensorflow.keras.callbacks import EarlyStopping"
      ],
      "metadata": {
        "id": "zS-1Ep6yv0yq"
      },
      "execution_count": 21,
      "outputs": []
    },
    {
      "cell_type": "code",
      "source": [
        "model = Sequential()\n",
        "model.add(Embedding(6043, 100, input_length=1400))\n",
        "model.add(LSTM(150))\n",
        "model.add(Dense(6043, activation='softmax'))"
      ],
      "metadata": {
        "colab": {
          "base_uri": "https://localhost:8080/"
        },
        "id": "O0HOqg72wQp2",
        "outputId": "5da56b18-c1d0-4608-afa2-eec891ab69ea"
      },
      "execution_count": 22,
      "outputs": [
        {
          "output_type": "stream",
          "name": "stderr",
          "text": [
            "/usr/local/lib/python3.11/dist-packages/keras/src/layers/core/embedding.py:90: UserWarning: Argument `input_length` is deprecated. Just remove it.\n",
            "  warnings.warn(\n"
          ]
        }
      ]
    },
    {
      "cell_type": "code",
      "source": [
        "model.compile(loss='categorical_crossentropy', optimizer='adam', metrics=['accuracy'])"
      ],
      "metadata": {
        "id": "J74rqi9ewyAx"
      },
      "execution_count": 23,
      "outputs": []
    },
    {
      "cell_type": "code",
      "source": [
        "model.summary()"
      ],
      "metadata": {
        "colab": {
          "base_uri": "https://localhost:8080/",
          "height": 238
        },
        "id": "sF8fRSGGw6sp",
        "outputId": "bb87ed0a-d3af-4797-c89d-8cd17c391218"
      },
      "execution_count": 24,
      "outputs": [
        {
          "output_type": "display_data",
          "data": {
            "text/plain": [
              "\u001b[1mModel: \"sequential\"\u001b[0m\n"
            ],
            "text/html": [
              "<pre style=\"white-space:pre;overflow-x:auto;line-height:normal;font-family:Menlo,'DejaVu Sans Mono',consolas,'Courier New',monospace\"><span style=\"font-weight: bold\">Model: \"sequential\"</span>\n",
              "</pre>\n"
            ]
          },
          "metadata": {}
        },
        {
          "output_type": "display_data",
          "data": {
            "text/plain": [
              "┏━━━━━━━━━━━━━━━━━━━━━━━━━━━━━━━━━━━━━━┳━━━━━━━━━━━━━━━━━━━━━━━━━━━━━┳━━━━━━━━━━━━━━━━━┓\n",
              "┃\u001b[1m \u001b[0m\u001b[1mLayer (type)                        \u001b[0m\u001b[1m \u001b[0m┃\u001b[1m \u001b[0m\u001b[1mOutput Shape               \u001b[0m\u001b[1m \u001b[0m┃\u001b[1m \u001b[0m\u001b[1m        Param #\u001b[0m\u001b[1m \u001b[0m┃\n",
              "┡━━━━━━━━━━━━━━━━━━━━━━━━━━━━━━━━━━━━━━╇━━━━━━━━━━━━━━━━━━━━━━━━━━━━━╇━━━━━━━━━━━━━━━━━┩\n",
              "│ embedding (\u001b[38;5;33mEmbedding\u001b[0m)                │ ?                           │     \u001b[38;5;34m0\u001b[0m (unbuilt) │\n",
              "├──────────────────────────────────────┼─────────────────────────────┼─────────────────┤\n",
              "│ lstm (\u001b[38;5;33mLSTM\u001b[0m)                          │ ?                           │     \u001b[38;5;34m0\u001b[0m (unbuilt) │\n",
              "├──────────────────────────────────────┼─────────────────────────────┼─────────────────┤\n",
              "│ dense (\u001b[38;5;33mDense\u001b[0m)                        │ ?                           │     \u001b[38;5;34m0\u001b[0m (unbuilt) │\n",
              "└──────────────────────────────────────┴─────────────────────────────┴─────────────────┘\n"
            ],
            "text/html": [
              "<pre style=\"white-space:pre;overflow-x:auto;line-height:normal;font-family:Menlo,'DejaVu Sans Mono',consolas,'Courier New',monospace\">┏━━━━━━━━━━━━━━━━━━━━━━━━━━━━━━━━━━━━━━┳━━━━━━━━━━━━━━━━━━━━━━━━━━━━━┳━━━━━━━━━━━━━━━━━┓\n",
              "┃<span style=\"font-weight: bold\"> Layer (type)                         </span>┃<span style=\"font-weight: bold\"> Output Shape                </span>┃<span style=\"font-weight: bold\">         Param # </span>┃\n",
              "┡━━━━━━━━━━━━━━━━━━━━━━━━━━━━━━━━━━━━━━╇━━━━━━━━━━━━━━━━━━━━━━━━━━━━━╇━━━━━━━━━━━━━━━━━┩\n",
              "│ embedding (<span style=\"color: #0087ff; text-decoration-color: #0087ff\">Embedding</span>)                │ ?                           │     <span style=\"color: #00af00; text-decoration-color: #00af00\">0</span> (unbuilt) │\n",
              "├──────────────────────────────────────┼─────────────────────────────┼─────────────────┤\n",
              "│ lstm (<span style=\"color: #0087ff; text-decoration-color: #0087ff\">LSTM</span>)                          │ ?                           │     <span style=\"color: #00af00; text-decoration-color: #00af00\">0</span> (unbuilt) │\n",
              "├──────────────────────────────────────┼─────────────────────────────┼─────────────────┤\n",
              "│ dense (<span style=\"color: #0087ff; text-decoration-color: #0087ff\">Dense</span>)                        │ ?                           │     <span style=\"color: #00af00; text-decoration-color: #00af00\">0</span> (unbuilt) │\n",
              "└──────────────────────────────────────┴─────────────────────────────┴─────────────────┘\n",
              "</pre>\n"
            ]
          },
          "metadata": {}
        },
        {
          "output_type": "display_data",
          "data": {
            "text/plain": [
              "\u001b[1m Total params: \u001b[0m\u001b[38;5;34m0\u001b[0m (0.00 B)\n"
            ],
            "text/html": [
              "<pre style=\"white-space:pre;overflow-x:auto;line-height:normal;font-family:Menlo,'DejaVu Sans Mono',consolas,'Courier New',monospace\"><span style=\"font-weight: bold\"> Total params: </span><span style=\"color: #00af00; text-decoration-color: #00af00\">0</span> (0.00 B)\n",
              "</pre>\n"
            ]
          },
          "metadata": {}
        },
        {
          "output_type": "display_data",
          "data": {
            "text/plain": [
              "\u001b[1m Trainable params: \u001b[0m\u001b[38;5;34m0\u001b[0m (0.00 B)\n"
            ],
            "text/html": [
              "<pre style=\"white-space:pre;overflow-x:auto;line-height:normal;font-family:Menlo,'DejaVu Sans Mono',consolas,'Courier New',monospace\"><span style=\"font-weight: bold\"> Trainable params: </span><span style=\"color: #00af00; text-decoration-color: #00af00\">0</span> (0.00 B)\n",
              "</pre>\n"
            ]
          },
          "metadata": {}
        },
        {
          "output_type": "display_data",
          "data": {
            "text/plain": [
              "\u001b[1m Non-trainable params: \u001b[0m\u001b[38;5;34m0\u001b[0m (0.00 B)\n"
            ],
            "text/html": [
              "<pre style=\"white-space:pre;overflow-x:auto;line-height:normal;font-family:Menlo,'DejaVu Sans Mono',consolas,'Courier New',monospace\"><span style=\"font-weight: bold\"> Non-trainable params: </span><span style=\"color: #00af00; text-decoration-color: #00af00\">0</span> (0.00 B)\n",
              "</pre>\n"
            ]
          },
          "metadata": {}
        }
      ]
    },
    {
      "cell_type": "code",
      "source": [
        "early_stop = EarlyStopping(monitor='val_loss', patience=3, restore_best_weights=True)"
      ],
      "metadata": {
        "id": "f_4bzuaBEq_T"
      },
      "execution_count": 25,
      "outputs": []
    },
    {
      "cell_type": "code",
      "source": [
        "model.fit(X, y, epochs=50, callbacks=[early_stop])"
      ],
      "metadata": {
        "colab": {
          "base_uri": "https://localhost:8080/"
        },
        "id": "23m1S0Q3w89C",
        "outputId": "93a80ada-8e2c-46ae-c6f2-5ea2e67af4ff"
      },
      "execution_count": 26,
      "outputs": [
        {
          "output_type": "stream",
          "name": "stdout",
          "text": [
            "Epoch 1/50\n",
            "\u001b[1m1345/1345\u001b[0m \u001b[32m━━━━━━━━━━━━━━━━━━━━\u001b[0m\u001b[37m\u001b[0m \u001b[1m77s\u001b[0m 53ms/step - accuracy: 0.0569 - loss: 7.2826\n",
            "Epoch 2/50\n"
          ]
        },
        {
          "output_type": "stream",
          "name": "stderr",
          "text": [
            "/usr/local/lib/python3.11/dist-packages/keras/src/callbacks/early_stopping.py:153: UserWarning: Early stopping conditioned on metric `val_loss` which is not available. Available metrics are: accuracy,loss\n",
            "  current = self.get_monitor_value(logs)\n"
          ]
        },
        {
          "output_type": "stream",
          "name": "stdout",
          "text": [
            "\u001b[1m1345/1345\u001b[0m \u001b[32m━━━━━━━━━━━━━━━━━━━━\u001b[0m\u001b[37m\u001b[0m \u001b[1m82s\u001b[0m 55ms/step - accuracy: 0.0890 - loss: 6.4308\n",
            "Epoch 3/50\n",
            "\u001b[1m1345/1345\u001b[0m \u001b[32m━━━━━━━━━━━━━━━━━━━━\u001b[0m\u001b[37m\u001b[0m \u001b[1m74s\u001b[0m 55ms/step - accuracy: 0.1190 - loss: 5.8996\n",
            "Epoch 4/50\n",
            "\u001b[1m1345/1345\u001b[0m \u001b[32m━━━━━━━━━━━━━━━━━━━━\u001b[0m\u001b[37m\u001b[0m \u001b[1m82s\u001b[0m 55ms/step - accuracy: 0.1461 - loss: 5.3950\n",
            "Epoch 5/50\n",
            "\u001b[1m1345/1345\u001b[0m \u001b[32m━━━━━━━━━━━━━━━━━━━━\u001b[0m\u001b[37m\u001b[0m \u001b[1m82s\u001b[0m 55ms/step - accuracy: 0.1827 - loss: 4.8582\n",
            "Epoch 6/50\n",
            "\u001b[1m1345/1345\u001b[0m \u001b[32m━━━━━━━━━━━━━━━━━━━━\u001b[0m\u001b[37m\u001b[0m \u001b[1m82s\u001b[0m 55ms/step - accuracy: 0.2195 - loss: 4.3749\n",
            "Epoch 7/50\n",
            "\u001b[1m1345/1345\u001b[0m \u001b[32m━━━━━━━━━━━━━━━━━━━━\u001b[0m\u001b[37m\u001b[0m \u001b[1m82s\u001b[0m 55ms/step - accuracy: 0.2639 - loss: 3.9213\n",
            "Epoch 8/50\n",
            "\u001b[1m1345/1345\u001b[0m \u001b[32m━━━━━━━━━━━━━━━━━━━━\u001b[0m\u001b[37m\u001b[0m \u001b[1m74s\u001b[0m 55ms/step - accuracy: 0.3184 - loss: 3.5259\n",
            "Epoch 9/50\n",
            "\u001b[1m1345/1345\u001b[0m \u001b[32m━━━━━━━━━━━━━━━━━━━━\u001b[0m\u001b[37m\u001b[0m \u001b[1m74s\u001b[0m 55ms/step - accuracy: 0.3864 - loss: 3.1268\n",
            "Epoch 10/50\n",
            "\u001b[1m1345/1345\u001b[0m \u001b[32m━━━━━━━━━━━━━━━━━━━━\u001b[0m\u001b[37m\u001b[0m \u001b[1m82s\u001b[0m 55ms/step - accuracy: 0.4509 - loss: 2.7444\n",
            "Epoch 11/50\n",
            "\u001b[1m1345/1345\u001b[0m \u001b[32m━━━━━━━━━━━━━━━━━━━━\u001b[0m\u001b[37m\u001b[0m \u001b[1m83s\u001b[0m 56ms/step - accuracy: 0.5086 - loss: 2.4383\n",
            "Epoch 12/50\n",
            "\u001b[1m1345/1345\u001b[0m \u001b[32m━━━━━━━━━━━━━━━━━━━━\u001b[0m\u001b[37m\u001b[0m \u001b[1m81s\u001b[0m 55ms/step - accuracy: 0.5641 - loss: 2.1403\n",
            "Epoch 13/50\n",
            "\u001b[1m1345/1345\u001b[0m \u001b[32m━━━━━━━━━━━━━━━━━━━━\u001b[0m\u001b[37m\u001b[0m \u001b[1m82s\u001b[0m 55ms/step - accuracy: 0.6086 - loss: 1.9053\n",
            "Epoch 14/50\n",
            "\u001b[1m1345/1345\u001b[0m \u001b[32m━━━━━━━━━━━━━━━━━━━━\u001b[0m\u001b[37m\u001b[0m \u001b[1m74s\u001b[0m 55ms/step - accuracy: 0.6525 - loss: 1.6879\n",
            "Epoch 15/50\n",
            "\u001b[1m1345/1345\u001b[0m \u001b[32m━━━━━━━━━━━━━━━━━━━━\u001b[0m\u001b[37m\u001b[0m \u001b[1m74s\u001b[0m 55ms/step - accuracy: 0.6954 - loss: 1.4827\n",
            "Epoch 16/50\n",
            "\u001b[1m1345/1345\u001b[0m \u001b[32m━━━━━━━━━━━━━━━━━━━━\u001b[0m\u001b[37m\u001b[0m \u001b[1m82s\u001b[0m 55ms/step - accuracy: 0.7338 - loss: 1.3115\n",
            "Epoch 17/50\n",
            "\u001b[1m1345/1345\u001b[0m \u001b[32m━━━━━━━━━━━━━━━━━━━━\u001b[0m\u001b[37m\u001b[0m \u001b[1m74s\u001b[0m 55ms/step - accuracy: 0.7719 - loss: 1.1457\n",
            "Epoch 18/50\n",
            "\u001b[1m1345/1345\u001b[0m \u001b[32m━━━━━━━━━━━━━━━━━━━━\u001b[0m\u001b[37m\u001b[0m \u001b[1m82s\u001b[0m 55ms/step - accuracy: 0.8008 - loss: 1.0159\n",
            "Epoch 19/50\n",
            "\u001b[1m1345/1345\u001b[0m \u001b[32m━━━━━━━━━━━━━━━━━━━━\u001b[0m\u001b[37m\u001b[0m \u001b[1m74s\u001b[0m 55ms/step - accuracy: 0.8340 - loss: 0.8712\n",
            "Epoch 20/50\n",
            "\u001b[1m1345/1345\u001b[0m \u001b[32m━━━━━━━━━━━━━━━━━━━━\u001b[0m\u001b[37m\u001b[0m \u001b[1m82s\u001b[0m 55ms/step - accuracy: 0.8599 - loss: 0.7567\n",
            "Epoch 21/50\n",
            "\u001b[1m1345/1345\u001b[0m \u001b[32m━━━━━━━━━━━━━━━━━━━━\u001b[0m\u001b[37m\u001b[0m \u001b[1m75s\u001b[0m 55ms/step - accuracy: 0.8821 - loss: 0.6587\n",
            "Epoch 22/50\n",
            "\u001b[1m1345/1345\u001b[0m \u001b[32m━━━━━━━━━━━━━━━━━━━━\u001b[0m\u001b[37m\u001b[0m \u001b[1m81s\u001b[0m 55ms/step - accuracy: 0.9003 - loss: 0.5808\n",
            "Epoch 23/50\n",
            "\u001b[1m1345/1345\u001b[0m \u001b[32m━━━━━━━━━━━━━━━━━━━━\u001b[0m\u001b[37m\u001b[0m \u001b[1m75s\u001b[0m 55ms/step - accuracy: 0.9173 - loss: 0.4969\n",
            "Epoch 24/50\n",
            "\u001b[1m1345/1345\u001b[0m \u001b[32m━━━━━━━━━━━━━━━━━━━━\u001b[0m\u001b[37m\u001b[0m \u001b[1m82s\u001b[0m 55ms/step - accuracy: 0.9344 - loss: 0.4241\n",
            "Epoch 25/50\n",
            "\u001b[1m1345/1345\u001b[0m \u001b[32m━━━━━━━━━━━━━━━━━━━━\u001b[0m\u001b[37m\u001b[0m \u001b[1m82s\u001b[0m 56ms/step - accuracy: 0.9447 - loss: 0.3703\n",
            "Epoch 26/50\n",
            "\u001b[1m1345/1345\u001b[0m \u001b[32m━━━━━━━━━━━━━━━━━━━━\u001b[0m\u001b[37m\u001b[0m \u001b[1m74s\u001b[0m 55ms/step - accuracy: 0.9535 - loss: 0.3205\n",
            "Epoch 27/50\n",
            "\u001b[1m1345/1345\u001b[0m \u001b[32m━━━━━━━━━━━━━━━━━━━━\u001b[0m\u001b[37m\u001b[0m \u001b[1m82s\u001b[0m 55ms/step - accuracy: 0.9620 - loss: 0.2732\n",
            "Epoch 28/50\n",
            "\u001b[1m1345/1345\u001b[0m \u001b[32m━━━━━━━━━━━━━━━━━━━━\u001b[0m\u001b[37m\u001b[0m \u001b[1m82s\u001b[0m 55ms/step - accuracy: 0.9706 - loss: 0.2300\n",
            "Epoch 29/50\n",
            "\u001b[1m1345/1345\u001b[0m \u001b[32m━━━━━━━━━━━━━━━━━━━━\u001b[0m\u001b[37m\u001b[0m \u001b[1m74s\u001b[0m 55ms/step - accuracy: 0.9749 - loss: 0.2028\n",
            "Epoch 30/50\n",
            "\u001b[1m1345/1345\u001b[0m \u001b[32m━━━━━━━━━━━━━━━━━━━━\u001b[0m\u001b[37m\u001b[0m \u001b[1m83s\u001b[0m 55ms/step - accuracy: 0.9815 - loss: 0.1698\n",
            "Epoch 31/50\n",
            "\u001b[1m1345/1345\u001b[0m \u001b[32m━━━━━━━━━━━━━━━━━━━━\u001b[0m\u001b[37m\u001b[0m \u001b[1m82s\u001b[0m 56ms/step - accuracy: 0.9831 - loss: 0.1525\n",
            "Epoch 32/50\n",
            "\u001b[1m1345/1345\u001b[0m \u001b[32m━━━━━━━━━━━━━━━━━━━━\u001b[0m\u001b[37m\u001b[0m \u001b[1m81s\u001b[0m 55ms/step - accuracy: 0.9872 - loss: 0.1281\n",
            "Epoch 33/50\n",
            "\u001b[1m1345/1345\u001b[0m \u001b[32m━━━━━━━━━━━━━━━━━━━━\u001b[0m\u001b[37m\u001b[0m \u001b[1m75s\u001b[0m 56ms/step - accuracy: 0.9883 - loss: 0.1155\n",
            "Epoch 34/50\n",
            "\u001b[1m1345/1345\u001b[0m \u001b[32m━━━━━━━━━━━━━━━━━━━━\u001b[0m\u001b[37m\u001b[0m \u001b[1m82s\u001b[0m 56ms/step - accuracy: 0.9892 - loss: 0.1030\n",
            "Epoch 35/50\n",
            "\u001b[1m1345/1345\u001b[0m \u001b[32m━━━━━━━━━━━━━━━━━━━━\u001b[0m\u001b[37m\u001b[0m \u001b[1m82s\u001b[0m 55ms/step - accuracy: 0.9906 - loss: 0.0901\n",
            "Epoch 36/50\n",
            "\u001b[1m1345/1345\u001b[0m \u001b[32m━━━━━━━━━━━━━━━━━━━━\u001b[0m\u001b[37m\u001b[0m \u001b[1m82s\u001b[0m 55ms/step - accuracy: 0.9909 - loss: 0.0837\n",
            "Epoch 37/50\n",
            "\u001b[1m1345/1345\u001b[0m \u001b[32m━━━━━━━━━━━━━━━━━━━━\u001b[0m\u001b[37m\u001b[0m \u001b[1m82s\u001b[0m 55ms/step - accuracy: 0.9927 - loss: 0.0731\n",
            "Epoch 38/50\n",
            "\u001b[1m1345/1345\u001b[0m \u001b[32m━━━━━━━━━━━━━━━━━━━━\u001b[0m\u001b[37m\u001b[0m \u001b[1m82s\u001b[0m 55ms/step - accuracy: 0.9932 - loss: 0.0670\n",
            "Epoch 39/50\n",
            "\u001b[1m1345/1345\u001b[0m \u001b[32m━━━━━━━━━━━━━━━━━━━━\u001b[0m\u001b[37m\u001b[0m \u001b[1m82s\u001b[0m 55ms/step - accuracy: 0.9927 - loss: 0.0638\n",
            "Epoch 40/50\n",
            "\u001b[1m1345/1345\u001b[0m \u001b[32m━━━━━━━━━━━━━━━━━━━━\u001b[0m\u001b[37m\u001b[0m \u001b[1m74s\u001b[0m 55ms/step - accuracy: 0.9917 - loss: 0.0647\n",
            "Epoch 41/50\n",
            "\u001b[1m1345/1345\u001b[0m \u001b[32m━━━━━━━━━━━━━━━━━━━━\u001b[0m\u001b[37m\u001b[0m \u001b[1m75s\u001b[0m 56ms/step - accuracy: 0.9926 - loss: 0.0610\n",
            "Epoch 42/50\n",
            "\u001b[1m1345/1345\u001b[0m \u001b[32m━━━━━━━━━━━━━━━━━━━━\u001b[0m\u001b[37m\u001b[0m \u001b[1m74s\u001b[0m 55ms/step - accuracy: 0.9944 - loss: 0.0462\n",
            "Epoch 43/50\n",
            "\u001b[1m1345/1345\u001b[0m \u001b[32m━━━━━━━━━━━━━━━━━━━━\u001b[0m\u001b[37m\u001b[0m \u001b[1m83s\u001b[0m 56ms/step - accuracy: 0.9942 - loss: 0.0448\n",
            "Epoch 44/50\n",
            "\u001b[1m1345/1345\u001b[0m \u001b[32m━━━━━━━━━━━━━━━━━━━━\u001b[0m\u001b[37m\u001b[0m \u001b[1m82s\u001b[0m 56ms/step - accuracy: 0.9918 - loss: 0.0574\n",
            "Epoch 45/50\n",
            "\u001b[1m1345/1345\u001b[0m \u001b[32m━━━━━━━━━━━━━━━━━━━━\u001b[0m\u001b[37m\u001b[0m \u001b[1m82s\u001b[0m 56ms/step - accuracy: 0.9926 - loss: 0.0513\n",
            "Epoch 46/50\n",
            "\u001b[1m1345/1345\u001b[0m \u001b[32m━━━━━━━━━━━━━━━━━━━━\u001b[0m\u001b[37m\u001b[0m \u001b[1m82s\u001b[0m 56ms/step - accuracy: 0.9935 - loss: 0.0449\n",
            "Epoch 47/50\n",
            "\u001b[1m1345/1345\u001b[0m \u001b[32m━━━━━━━━━━━━━━━━━━━━\u001b[0m\u001b[37m\u001b[0m \u001b[1m82s\u001b[0m 56ms/step - accuracy: 0.9945 - loss: 0.0367\n",
            "Epoch 48/50\n",
            "\u001b[1m1345/1345\u001b[0m \u001b[32m━━━━━━━━━━━━━━━━━━━━\u001b[0m\u001b[37m\u001b[0m \u001b[1m81s\u001b[0m 55ms/step - accuracy: 0.9920 - loss: 0.0468\n",
            "Epoch 49/50\n",
            "\u001b[1m1345/1345\u001b[0m \u001b[32m━━━━━━━━━━━━━━━━━━━━\u001b[0m\u001b[37m\u001b[0m \u001b[1m74s\u001b[0m 55ms/step - accuracy: 0.9909 - loss: 0.0539\n",
            "Epoch 50/50\n",
            "\u001b[1m1345/1345\u001b[0m \u001b[32m━━━━━━━━━━━━━━━━━━━━\u001b[0m\u001b[37m\u001b[0m \u001b[1m82s\u001b[0m 56ms/step - accuracy: 0.9942 - loss: 0.0379\n"
          ]
        },
        {
          "output_type": "execute_result",
          "data": {
            "text/plain": [
              "<keras.src.callbacks.history.History at 0x7a8d34408650>"
            ]
          },
          "metadata": {},
          "execution_count": 26
        }
      ]
    },
    {
      "cell_type": "code",
      "source": [
        "import numpy as np\n",
        "\n",
        "text = \"total duration\"\n",
        "\n",
        "for i in range(10):\n",
        "\n",
        "  #tokenize\n",
        "  token_text = tokenizer.texts_to_sequences([text])[0]\n",
        "\n",
        "  #padding\n",
        "  padded_token_text = pad_sequences([token_text], maxlen=max_len, padding='pre')\n",
        "\n",
        "  #predict\n",
        "  word_num = np.argmax(model.predict(padded_token_text))\n",
        "\n",
        "  for word, index in tokenizer.word_index.items():\n",
        "    if index == word_num:\n",
        "      text = text + \" \" + word\n",
        "      print(text)"
      ],
      "metadata": {
        "id": "BWvPwqvjy0Q5",
        "colab": {
          "base_uri": "https://localhost:8080/"
        },
        "outputId": "66eac4c5-d41b-4774-ed06-edb00841fcc3"
      },
      "execution_count": 43,
      "outputs": [
        {
          "output_type": "stream",
          "name": "stdout",
          "text": [
            "\u001b[1m1/1\u001b[0m \u001b[32m━━━━━━━━━━━━━━━━━━━━\u001b[0m\u001b[37m\u001b[0m \u001b[1m0s\u001b[0m 144ms/step\n",
            "total duration of\n",
            "\u001b[1m1/1\u001b[0m \u001b[32m━━━━━━━━━━━━━━━━━━━━\u001b[0m\u001b[37m\u001b[0m \u001b[1m0s\u001b[0m 47ms/step\n",
            "total duration of the\n",
            "\u001b[1m1/1\u001b[0m \u001b[32m━━━━━━━━━━━━━━━━━━━━\u001b[0m\u001b[37m\u001b[0m \u001b[1m0s\u001b[0m 52ms/step\n",
            "total duration of the u\n",
            "\u001b[1m1/1\u001b[0m \u001b[32m━━━━━━━━━━━━━━━━━━━━\u001b[0m\u001b[37m\u001b[0m \u001b[1m0s\u001b[0m 49ms/step\n",
            "total duration of the u s\n",
            "\u001b[1m1/1\u001b[0m \u001b[32m━━━━━━━━━━━━━━━━━━━━\u001b[0m\u001b[37m\u001b[0m \u001b[1m0s\u001b[0m 49ms/step\n",
            "total duration of the u s house\n",
            "\u001b[1m1/1\u001b[0m \u001b[32m━━━━━━━━━━━━━━━━━━━━\u001b[0m\u001b[37m\u001b[0m \u001b[1m0s\u001b[0m 48ms/step\n",
            "total duration of the u s house of\n",
            "\u001b[1m1/1\u001b[0m \u001b[32m━━━━━━━━━━━━━━━━━━━━\u001b[0m\u001b[37m\u001b[0m \u001b[1m0s\u001b[0m 48ms/step\n",
            "total duration of the u s house of representatives\n",
            "\u001b[1m1/1\u001b[0m \u001b[32m━━━━━━━━━━━━━━━━━━━━\u001b[0m\u001b[37m\u001b[0m \u001b[1m0s\u001b[0m 50ms/step\n",
            "total duration of the u s house of representatives on\n",
            "\u001b[1m1/1\u001b[0m \u001b[32m━━━━━━━━━━━━━━━━━━━━\u001b[0m\u001b[37m\u001b[0m \u001b[1m0s\u001b[0m 48ms/step\n",
            "total duration of the u s house of representatives on thursday\n",
            "\u001b[1m1/1\u001b[0m \u001b[32m━━━━━━━━━━━━━━━━━━━━\u001b[0m\u001b[37m\u001b[0m \u001b[1m0s\u001b[0m 48ms/step\n",
            "total duration of the u s house of representatives on thursday took\n"
          ]
        }
      ]
    },
    {
      "cell_type": "code",
      "source": [
        "model.save('word_predictor.keras')"
      ],
      "metadata": {
        "id": "CrbHueeHzDsv"
      },
      "execution_count": 44,
      "outputs": []
    },
    {
      "cell_type": "code",
      "source": [
        "import pickle\n",
        "\n",
        "# Save\n",
        "with open('tokenizer.pkl', 'wb') as f:\n",
        "    pickle.dump(tokenizer, f)"
      ],
      "metadata": {
        "id": "qhmfcqCQOxcj"
      },
      "execution_count": 45,
      "outputs": []
    },
    {
      "cell_type": "code",
      "source": [
        "from tensorflow.keras.models import load_model"
      ],
      "metadata": {
        "id": "P6AzTLG7eUL9"
      },
      "execution_count": 46,
      "outputs": []
    },
    {
      "cell_type": "code",
      "source": [
        "model = load_model('word_predictor.keras')"
      ],
      "metadata": {
        "id": "kotAAxo4NzLT"
      },
      "execution_count": 47,
      "outputs": []
    },
    {
      "cell_type": "code",
      "source": [
        "with open('tokenizer.pkl', 'rb') as f:\n",
        "    tokenizer = pickle.load(f)"
      ],
      "metadata": {
        "id": "LcPu-vraO6lF"
      },
      "execution_count": 48,
      "outputs": []
    },
    {
      "cell_type": "code",
      "source": [
        "import numpy as np\n",
        "\n",
        "text = \"America is\"\n",
        "\n",
        "for i in range(100):\n",
        "\n",
        "  #tokenize\n",
        "  token_text = tokenizer.texts_to_sequences([text])[0]\n",
        "\n",
        "  #padding\n",
        "  padded_token_text = pad_sequences([token_text], maxlen=max_len, padding='pre')\n",
        "\n",
        "  #predict\n",
        "  word_num = np.argmax(model.predict(padded_token_text))\n",
        "\n",
        "  for word, index in tokenizer.word_index.items():\n",
        "    if index == word_num:\n",
        "      text = text + \" \" + word\n",
        "      print(text)"
      ],
      "metadata": {
        "colab": {
          "base_uri": "https://localhost:8080/"
        },
        "id": "wLNj3RWGN2bk",
        "outputId": "7d7f4bc2-4ef3-4273-db81-fbe99abce704"
      },
      "execution_count": 49,
      "outputs": [
        {
          "output_type": "stream",
          "name": "stdout",
          "text": [
            "\u001b[1m1/1\u001b[0m \u001b[32m━━━━━━━━━━━━━━━━━━━━\u001b[0m\u001b[37m\u001b[0m \u001b[1m0s\u001b[0m 137ms/step\n",
            "America is to\n",
            "\u001b[1m1/1\u001b[0m \u001b[32m━━━━━━━━━━━━━━━━━━━━\u001b[0m\u001b[37m\u001b[0m \u001b[1m0s\u001b[0m 48ms/step\n",
            "America is to make\n",
            "\u001b[1m1/1\u001b[0m \u001b[32m━━━━━━━━━━━━━━━━━━━━\u001b[0m\u001b[37m\u001b[0m \u001b[1m0s\u001b[0m 48ms/step\n",
            "America is to make conservative\n",
            "\u001b[1m1/1\u001b[0m \u001b[32m━━━━━━━━━━━━━━━━━━━━\u001b[0m\u001b[37m\u001b[0m \u001b[1m0s\u001b[0m 46ms/step\n",
            "America is to make conservative members\n",
            "\u001b[1m1/1\u001b[0m \u001b[32m━━━━━━━━━━━━━━━━━━━━\u001b[0m\u001b[37m\u001b[0m \u001b[1m0s\u001b[0m 47ms/step\n",
            "America is to make conservative members of\n",
            "\u001b[1m1/1\u001b[0m \u001b[32m━━━━━━━━━━━━━━━━━━━━\u001b[0m\u001b[37m\u001b[0m \u001b[1m0s\u001b[0m 53ms/step\n",
            "America is to make conservative members of u\n",
            "\u001b[1m1/1\u001b[0m \u001b[32m━━━━━━━━━━━━━━━━━━━━\u001b[0m\u001b[37m\u001b[0m \u001b[1m0s\u001b[0m 48ms/step\n",
            "America is to make conservative members of u s\n",
            "\u001b[1m1/1\u001b[0m \u001b[32m━━━━━━━━━━━━━━━━━━━━\u001b[0m\u001b[37m\u001b[0m \u001b[1m0s\u001b[0m 47ms/step\n",
            "America is to make conservative members of u s district\n",
            "\u001b[1m1/1\u001b[0m \u001b[32m━━━━━━━━━━━━━━━━━━━━\u001b[0m\u001b[37m\u001b[0m \u001b[1m0s\u001b[0m 46ms/step\n",
            "America is to make conservative members of u s district judge\n",
            "\u001b[1m1/1\u001b[0m \u001b[32m━━━━━━━━━━━━━━━━━━━━\u001b[0m\u001b[37m\u001b[0m \u001b[1m0s\u001b[0m 49ms/step\n",
            "America is to make conservative members of u s district judge george\n",
            "\u001b[1m1/1\u001b[0m \u001b[32m━━━━━━━━━━━━━━━━━━━━\u001b[0m\u001b[37m\u001b[0m \u001b[1m0s\u001b[0m 46ms/step\n",
            "America is to make conservative members of u s district judge george ruled\n",
            "\u001b[1m1/1\u001b[0m \u001b[32m━━━━━━━━━━━━━━━━━━━━\u001b[0m\u001b[37m\u001b[0m \u001b[1m0s\u001b[0m 49ms/step\n",
            "America is to make conservative members of u s district judge george ruled that\n",
            "\u001b[1m1/1\u001b[0m \u001b[32m━━━━━━━━━━━━━━━━━━━━\u001b[0m\u001b[37m\u001b[0m \u001b[1m0s\u001b[0m 48ms/step\n",
            "America is to make conservative members of u s district judge george ruled that the\n",
            "\u001b[1m1/1\u001b[0m \u001b[32m━━━━━━━━━━━━━━━━━━━━\u001b[0m\u001b[37m\u001b[0m \u001b[1m0s\u001b[0m 47ms/step\n",
            "America is to make conservative members of u s district judge george ruled that the president\n",
            "\u001b[1m1/1\u001b[0m \u001b[32m━━━━━━━━━━━━━━━━━━━━\u001b[0m\u001b[37m\u001b[0m \u001b[1m0s\u001b[0m 47ms/step\n",
            "America is to make conservative members of u s district judge george ruled that the president will\n",
            "\u001b[1m1/1\u001b[0m \u001b[32m━━━━━━━━━━━━━━━━━━━━\u001b[0m\u001b[37m\u001b[0m \u001b[1m0s\u001b[0m 48ms/step\n",
            "America is to make conservative members of u s district judge george ruled that the president will vote\n",
            "\u001b[1m1/1\u001b[0m \u001b[32m━━━━━━━━━━━━━━━━━━━━\u001b[0m\u001b[37m\u001b[0m \u001b[1m0s\u001b[0m 47ms/step\n",
            "America is to make conservative members of u s district judge george ruled that the president will vote again\n",
            "\u001b[1m1/1\u001b[0m \u001b[32m━━━━━━━━━━━━━━━━━━━━\u001b[0m\u001b[37m\u001b[0m \u001b[1m0s\u001b[0m 48ms/step\n",
            "America is to make conservative members of u s district judge george ruled that the president will vote again but\n",
            "\u001b[1m1/1\u001b[0m \u001b[32m━━━━━━━━━━━━━━━━━━━━\u001b[0m\u001b[37m\u001b[0m \u001b[1m0s\u001b[0m 48ms/step\n",
            "America is to make conservative members of u s district judge george ruled that the president will vote again but to\n",
            "\u001b[1m1/1\u001b[0m \u001b[32m━━━━━━━━━━━━━━━━━━━━\u001b[0m\u001b[37m\u001b[0m \u001b[1m0s\u001b[0m 47ms/step\n",
            "America is to make conservative members of u s district judge george ruled that the president will vote again but to end\n",
            "\u001b[1m1/1\u001b[0m \u001b[32m━━━━━━━━━━━━━━━━━━━━\u001b[0m\u001b[37m\u001b[0m \u001b[1m0s\u001b[0m 47ms/step\n",
            "America is to make conservative members of u s district judge george ruled that the president will vote again but to end as\n",
            "\u001b[1m1/1\u001b[0m \u001b[32m━━━━━━━━━━━━━━━━━━━━\u001b[0m\u001b[37m\u001b[0m \u001b[1m0s\u001b[0m 49ms/step\n",
            "America is to make conservative members of u s district judge george ruled that the president will vote again but to end as a\n",
            "\u001b[1m1/1\u001b[0m \u001b[32m━━━━━━━━━━━━━━━━━━━━\u001b[0m\u001b[37m\u001b[0m \u001b[1m0s\u001b[0m 47ms/step\n",
            "America is to make conservative members of u s district judge george ruled that the president will vote again but to end as a starting\n",
            "\u001b[1m1/1\u001b[0m \u001b[32m━━━━━━━━━━━━━━━━━━━━\u001b[0m\u001b[37m\u001b[0m \u001b[1m0s\u001b[0m 47ms/step\n",
            "America is to make conservative members of u s district judge george ruled that the president will vote again but to end as a starting end\n",
            "\u001b[1m1/1\u001b[0m \u001b[32m━━━━━━━━━━━━━━━━━━━━\u001b[0m\u001b[37m\u001b[0m \u001b[1m0s\u001b[0m 50ms/step\n",
            "America is to make conservative members of u s district judge george ruled that the president will vote again but to end as a starting end to\n",
            "\u001b[1m1/1\u001b[0m \u001b[32m━━━━━━━━━━━━━━━━━━━━\u001b[0m\u001b[37m\u001b[0m \u001b[1m0s\u001b[0m 47ms/step\n",
            "America is to make conservative members of u s district judge george ruled that the president will vote again but to end as a starting end to work\n",
            "\u001b[1m1/1\u001b[0m \u001b[32m━━━━━━━━━━━━━━━━━━━━\u001b[0m\u001b[37m\u001b[0m \u001b[1m0s\u001b[0m 47ms/step\n",
            "America is to make conservative members of u s district judge george ruled that the president will vote again but to end as a starting end to work with\n",
            "\u001b[1m1/1\u001b[0m \u001b[32m━━━━━━━━━━━━━━━━━━━━\u001b[0m\u001b[37m\u001b[0m \u001b[1m0s\u001b[0m 49ms/step\n",
            "America is to make conservative members of u s district judge george ruled that the president will vote again but to end as a starting end to work with democrats\n",
            "\u001b[1m1/1\u001b[0m \u001b[32m━━━━━━━━━━━━━━━━━━━━\u001b[0m\u001b[37m\u001b[0m \u001b[1m0s\u001b[0m 48ms/step\n",
            "America is to make conservative members of u s district judge george ruled that the president will vote again but to end as a starting end to work with democrats on\n",
            "\u001b[1m1/1\u001b[0m \u001b[32m━━━━━━━━━━━━━━━━━━━━\u001b[0m\u001b[37m\u001b[0m \u001b[1m0s\u001b[0m 48ms/step\n",
            "America is to make conservative members of u s district judge george ruled that the president will vote again but to end as a starting end to work with democrats on the\n",
            "\u001b[1m1/1\u001b[0m \u001b[32m━━━━━━━━━━━━━━━━━━━━\u001b[0m\u001b[37m\u001b[0m \u001b[1m0s\u001b[0m 47ms/step\n",
            "America is to make conservative members of u s district judge george ruled that the president will vote again but to end as a starting end to work with democrats on the democratic\n",
            "\u001b[1m1/1\u001b[0m \u001b[32m━━━━━━━━━━━━━━━━━━━━\u001b[0m\u001b[37m\u001b[0m \u001b[1m0s\u001b[0m 47ms/step\n",
            "America is to make conservative members of u s district judge george ruled that the president will vote again but to end as a starting end to work with democrats on the democratic tax\n",
            "\u001b[1m1/1\u001b[0m \u001b[32m━━━━━━━━━━━━━━━━━━━━\u001b[0m\u001b[37m\u001b[0m \u001b[1m0s\u001b[0m 49ms/step\n",
            "America is to make conservative members of u s district judge george ruled that the president will vote again but to end as a starting end to work with democrats on the democratic tax overhaul\n",
            "\u001b[1m1/1\u001b[0m \u001b[32m━━━━━━━━━━━━━━━━━━━━\u001b[0m\u001b[37m\u001b[0m \u001b[1m0s\u001b[0m 49ms/step\n",
            "America is to make conservative members of u s district judge george ruled that the president will vote again but to end as a starting end to work with democrats on the democratic tax overhaul bill\n",
            "\u001b[1m1/1\u001b[0m \u001b[32m━━━━━━━━━━━━━━━━━━━━\u001b[0m\u001b[37m\u001b[0m \u001b[1m0s\u001b[0m 47ms/step\n",
            "America is to make conservative members of u s district judge george ruled that the president will vote again but to end as a starting end to work with democrats on the democratic tax overhaul bill by\n",
            "\u001b[1m1/1\u001b[0m \u001b[32m━━━━━━━━━━━━━━━━━━━━\u001b[0m\u001b[37m\u001b[0m \u001b[1m0s\u001b[0m 47ms/step\n",
            "America is to make conservative members of u s district judge george ruled that the president will vote again but to end as a starting end to work with democrats on the democratic tax overhaul bill by republicans\n",
            "\u001b[1m1/1\u001b[0m \u001b[32m━━━━━━━━━━━━━━━━━━━━\u001b[0m\u001b[37m\u001b[0m \u001b[1m0s\u001b[0m 48ms/step\n",
            "America is to make conservative members of u s district judge george ruled that the president will vote again but to end as a starting end to work with democrats on the democratic tax overhaul bill by republicans after\n",
            "\u001b[1m1/1\u001b[0m \u001b[32m━━━━━━━━━━━━━━━━━━━━\u001b[0m\u001b[37m\u001b[0m \u001b[1m0s\u001b[0m 56ms/step\n",
            "America is to make conservative members of u s district judge george ruled that the president will vote again but to end as a starting end to work with democrats on the democratic tax overhaul bill by republicans after the\n",
            "\u001b[1m1/1\u001b[0m \u001b[32m━━━━━━━━━━━━━━━━━━━━\u001b[0m\u001b[37m\u001b[0m \u001b[1m0s\u001b[0m 48ms/step\n",
            "America is to make conservative members of u s district judge george ruled that the president will vote again but to end as a starting end to work with democrats on the democratic tax overhaul bill by republicans after the house\n",
            "\u001b[1m1/1\u001b[0m \u001b[32m━━━━━━━━━━━━━━━━━━━━\u001b[0m\u001b[37m\u001b[0m \u001b[1m0s\u001b[0m 48ms/step\n",
            "America is to make conservative members of u s district judge george ruled that the president will vote again but to end as a starting end to work with democrats on the democratic tax overhaul bill by republicans after the house administration\n",
            "\u001b[1m1/1\u001b[0m \u001b[32m━━━━━━━━━━━━━━━━━━━━\u001b[0m\u001b[37m\u001b[0m \u001b[1m0s\u001b[0m 47ms/step\n",
            "America is to make conservative members of u s district judge george ruled that the president will vote again but to end as a starting end to work with democrats on the democratic tax overhaul bill by republicans after the house administration committee\n",
            "\u001b[1m1/1\u001b[0m \u001b[32m━━━━━━━━━━━━━━━━━━━━\u001b[0m\u001b[37m\u001b[0m \u001b[1m0s\u001b[0m 48ms/step\n",
            "America is to make conservative members of u s district judge george ruled that the president will vote again but to end as a starting end to work with democrats on the democratic tax overhaul bill by republicans after the house administration committee the\n",
            "\u001b[1m1/1\u001b[0m \u001b[32m━━━━━━━━━━━━━━━━━━━━\u001b[0m\u001b[37m\u001b[0m \u001b[1m0s\u001b[0m 49ms/step\n",
            "America is to make conservative members of u s district judge george ruled that the president will vote again but to end as a starting end to work with democrats on the democratic tax overhaul bill by republicans after the house administration committee the bill\n",
            "\u001b[1m1/1\u001b[0m \u001b[32m━━━━━━━━━━━━━━━━━━━━\u001b[0m\u001b[37m\u001b[0m \u001b[1m0s\u001b[0m 48ms/step\n",
            "America is to make conservative members of u s district judge george ruled that the president will vote again but to end as a starting end to work with democrats on the democratic tax overhaul bill by republicans after the house administration committee the bill would\n",
            "\u001b[1m1/1\u001b[0m \u001b[32m━━━━━━━━━━━━━━━━━━━━\u001b[0m\u001b[37m\u001b[0m \u001b[1m0s\u001b[0m 47ms/step\n",
            "America is to make conservative members of u s district judge george ruled that the president will vote again but to end as a starting end to work with democrats on the democratic tax overhaul bill by republicans after the house administration committee the bill would violate\n",
            "\u001b[1m1/1\u001b[0m \u001b[32m━━━━━━━━━━━━━━━━━━━━\u001b[0m\u001b[37m\u001b[0m \u001b[1m0s\u001b[0m 49ms/step\n",
            "America is to make conservative members of u s district judge george ruled that the president will vote again but to end as a starting end to work with democrats on the democratic tax overhaul bill by republicans after the house administration committee the bill would violate new\n",
            "\u001b[1m1/1\u001b[0m \u001b[32m━━━━━━━━━━━━━━━━━━━━\u001b[0m\u001b[37m\u001b[0m \u001b[1m0s\u001b[0m 59ms/step\n",
            "America is to make conservative members of u s district judge george ruled that the president will vote again but to end as a starting end to work with democrats on the democratic tax overhaul bill by republicans after the house administration committee the bill would violate new york\n",
            "\u001b[1m1/1\u001b[0m \u001b[32m━━━━━━━━━━━━━━━━━━━━\u001b[0m\u001b[37m\u001b[0m \u001b[1m0s\u001b[0m 52ms/step\n",
            "America is to make conservative members of u s district judge george ruled that the president will vote again but to end as a starting end to work with democrats on the democratic tax overhaul bill by republicans after the house administration committee the bill would violate new york residents’\n",
            "\u001b[1m1/1\u001b[0m \u001b[32m━━━━━━━━━━━━━━━━━━━━\u001b[0m\u001b[37m\u001b[0m \u001b[1m0s\u001b[0m 54ms/step\n",
            "America is to make conservative members of u s district judge george ruled that the president will vote again but to end as a starting end to work with democrats on the democratic tax overhaul bill by republicans after the house administration committee the bill would violate new york residents’ rights\n",
            "\u001b[1m1/1\u001b[0m \u001b[32m━━━━━━━━━━━━━━━━━━━━\u001b[0m\u001b[37m\u001b[0m \u001b[1m0s\u001b[0m 48ms/step\n",
            "America is to make conservative members of u s district judge george ruled that the president will vote again but to end as a starting end to work with democrats on the democratic tax overhaul bill by republicans after the house administration committee the bill would violate new york residents’ rights to\n",
            "\u001b[1m1/1\u001b[0m \u001b[32m━━━━━━━━━━━━━━━━━━━━\u001b[0m\u001b[37m\u001b[0m \u001b[1m0s\u001b[0m 51ms/step\n",
            "America is to make conservative members of u s district judge george ruled that the president will vote again but to end as a starting end to work with democrats on the democratic tax overhaul bill by republicans after the house administration committee the bill would violate new york residents’ rights to due\n",
            "\u001b[1m1/1\u001b[0m \u001b[32m━━━━━━━━━━━━━━━━━━━━\u001b[0m\u001b[37m\u001b[0m \u001b[1m0s\u001b[0m 48ms/step\n",
            "America is to make conservative members of u s district judge george ruled that the president will vote again but to end as a starting end to work with democrats on the democratic tax overhaul bill by republicans after the house administration committee the bill would violate new york residents’ rights to due process\n",
            "\u001b[1m1/1\u001b[0m \u001b[32m━━━━━━━━━━━━━━━━━━━━\u001b[0m\u001b[37m\u001b[0m \u001b[1m0s\u001b[0m 48ms/step\n",
            "America is to make conservative members of u s district judge george ruled that the president will vote again but to end as a starting end to work with democrats on the democratic tax overhaul bill by republicans after the house administration committee the bill would violate new york residents’ rights to due process and\n",
            "\u001b[1m1/1\u001b[0m \u001b[32m━━━━━━━━━━━━━━━━━━━━\u001b[0m\u001b[37m\u001b[0m \u001b[1m0s\u001b[0m 50ms/step\n",
            "America is to make conservative members of u s district judge george ruled that the president will vote again but to end as a starting end to work with democrats on the democratic tax overhaul bill by republicans after the house administration committee the bill would violate new york residents’ rights to due process and equal\n",
            "\u001b[1m1/1\u001b[0m \u001b[32m━━━━━━━━━━━━━━━━━━━━\u001b[0m\u001b[37m\u001b[0m \u001b[1m0s\u001b[0m 48ms/step\n",
            "America is to make conservative members of u s district judge george ruled that the president will vote again but to end as a starting end to work with democrats on the democratic tax overhaul bill by republicans after the house administration committee the bill would violate new york residents’ rights to due process and equal protection\n",
            "\u001b[1m1/1\u001b[0m \u001b[32m━━━━━━━━━━━━━━━━━━━━\u001b[0m\u001b[37m\u001b[0m \u001b[1m0s\u001b[0m 49ms/step\n",
            "America is to make conservative members of u s district judge george ruled that the president will vote again but to end as a starting end to work with democrats on the democratic tax overhaul bill by republicans after the house administration committee the bill would violate new york residents’ rights to due process and equal protection the\n",
            "\u001b[1m1/1\u001b[0m \u001b[32m━━━━━━━━━━━━━━━━━━━━\u001b[0m\u001b[37m\u001b[0m \u001b[1m0s\u001b[0m 49ms/step\n",
            "America is to make conservative members of u s district judge george ruled that the president will vote again but to end as a starting end to work with democrats on the democratic tax overhaul bill by republicans after the house administration committee the bill would violate new york residents’ rights to due process and equal protection the sweeping\n",
            "\u001b[1m1/1\u001b[0m \u001b[32m━━━━━━━━━━━━━━━━━━━━\u001b[0m\u001b[37m\u001b[0m \u001b[1m0s\u001b[0m 54ms/step\n",
            "America is to make conservative members of u s district judge george ruled that the president will vote again but to end as a starting end to work with democrats on the democratic tax overhaul bill by republicans after the house administration committee the bill would violate new york residents’ rights to due process and equal protection the sweeping republican\n",
            "\u001b[1m1/1\u001b[0m \u001b[32m━━━━━━━━━━━━━━━━━━━━\u001b[0m\u001b[37m\u001b[0m \u001b[1m0s\u001b[0m 49ms/step\n",
            "America is to make conservative members of u s district judge george ruled that the president will vote again but to end as a starting end to work with democrats on the democratic tax overhaul bill by republicans after the house administration committee the bill would violate new york residents’ rights to due process and equal protection the sweeping republican tax\n",
            "\u001b[1m1/1\u001b[0m \u001b[32m━━━━━━━━━━━━━━━━━━━━\u001b[0m\u001b[37m\u001b[0m \u001b[1m0s\u001b[0m 48ms/step\n",
            "America is to make conservative members of u s district judge george ruled that the president will vote again but to end as a starting end to work with democrats on the democratic tax overhaul bill by republicans after the house administration committee the bill would violate new york residents’ rights to due process and equal protection the sweeping republican tax bill\n",
            "\u001b[1m1/1\u001b[0m \u001b[32m━━━━━━━━━━━━━━━━━━━━\u001b[0m\u001b[37m\u001b[0m \u001b[1m0s\u001b[0m 49ms/step\n",
            "America is to make conservative members of u s district judge george ruled that the president will vote again but to end as a starting end to work with democrats on the democratic tax overhaul bill by republicans after the house administration committee the bill would violate new york residents’ rights to due process and equal protection the sweeping republican tax bill signed\n",
            "\u001b[1m1/1\u001b[0m \u001b[32m━━━━━━━━━━━━━━━━━━━━\u001b[0m\u001b[37m\u001b[0m \u001b[1m0s\u001b[0m 66ms/step\n",
            "America is to make conservative members of u s district judge george ruled that the president will vote again but to end as a starting end to work with democrats on the democratic tax overhaul bill by republicans after the house administration committee the bill would violate new york residents’ rights to due process and equal protection the sweeping republican tax bill signed into\n",
            "\u001b[1m1/1\u001b[0m \u001b[32m━━━━━━━━━━━━━━━━━━━━\u001b[0m\u001b[37m\u001b[0m \u001b[1m0s\u001b[0m 67ms/step\n",
            "America is to make conservative members of u s district judge george ruled that the president will vote again but to end as a starting end to work with democrats on the democratic tax overhaul bill by republicans after the house administration committee the bill would violate new york residents’ rights to due process and equal protection the sweeping republican tax bill signed into law\n",
            "\u001b[1m1/1\u001b[0m \u001b[32m━━━━━━━━━━━━━━━━━━━━\u001b[0m\u001b[37m\u001b[0m \u001b[1m0s\u001b[0m 63ms/step\n",
            "America is to make conservative members of u s district judge george ruled that the president will vote again but to end as a starting end to work with democrats on the democratic tax overhaul bill by republicans after the house administration committee the bill would violate new york residents’ rights to due process and equal protection the sweeping republican tax bill signed into law by\n",
            "\u001b[1m1/1\u001b[0m \u001b[32m━━━━━━━━━━━━━━━━━━━━\u001b[0m\u001b[37m\u001b[0m \u001b[1m0s\u001b[0m 64ms/step\n",
            "America is to make conservative members of u s district judge george ruled that the president will vote again but to end as a starting end to work with democrats on the democratic tax overhaul bill by republicans after the house administration committee the bill would violate new york residents’ rights to due process and equal protection the sweeping republican tax bill signed into law by u\n",
            "\u001b[1m1/1\u001b[0m \u001b[32m━━━━━━━━━━━━━━━━━━━━\u001b[0m\u001b[37m\u001b[0m \u001b[1m0s\u001b[0m 64ms/step\n",
            "America is to make conservative members of u s district judge george ruled that the president will vote again but to end as a starting end to work with democrats on the democratic tax overhaul bill by republicans after the house administration committee the bill would violate new york residents’ rights to due process and equal protection the sweeping republican tax bill signed into law by u s\n",
            "\u001b[1m1/1\u001b[0m \u001b[32m━━━━━━━━━━━━━━━━━━━━\u001b[0m\u001b[37m\u001b[0m \u001b[1m0s\u001b[0m 76ms/step\n",
            "America is to make conservative members of u s district judge george ruled that the president will vote again but to end as a starting end to work with democrats on the democratic tax overhaul bill by republicans after the house administration committee the bill would violate new york residents’ rights to due process and equal protection the sweeping republican tax bill signed into law by u s president\n",
            "\u001b[1m1/1\u001b[0m \u001b[32m━━━━━━━━━━━━━━━━━━━━\u001b[0m\u001b[37m\u001b[0m \u001b[1m0s\u001b[0m 57ms/step\n",
            "America is to make conservative members of u s district judge george ruled that the president will vote again but to end as a starting end to work with democrats on the democratic tax overhaul bill by republicans after the house administration committee the bill would violate new york residents’ rights to due process and equal protection the sweeping republican tax bill signed into law by u s president donald\n",
            "\u001b[1m1/1\u001b[0m \u001b[32m━━━━━━━━━━━━━━━━━━━━\u001b[0m\u001b[37m\u001b[0m \u001b[1m0s\u001b[0m 66ms/step\n",
            "America is to make conservative members of u s district judge george ruled that the president will vote again but to end as a starting end to work with democrats on the democratic tax overhaul bill by republicans after the house administration committee the bill would violate new york residents’ rights to due process and equal protection the sweeping republican tax bill signed into law by u s president donald trump\n",
            "\u001b[1m1/1\u001b[0m \u001b[32m━━━━━━━━━━━━━━━━━━━━\u001b[0m\u001b[37m\u001b[0m \u001b[1m0s\u001b[0m 63ms/step\n",
            "America is to make conservative members of u s district judge george ruled that the president will vote again but to end as a starting end to work with democrats on the democratic tax overhaul bill by republicans after the house administration committee the bill would violate new york residents’ rights to due process and equal protection the sweeping republican tax bill signed into law by u s president donald trump as\n",
            "\u001b[1m1/1\u001b[0m \u001b[32m━━━━━━━━━━━━━━━━━━━━\u001b[0m\u001b[37m\u001b[0m \u001b[1m0s\u001b[0m 68ms/step\n",
            "America is to make conservative members of u s district judge george ruled that the president will vote again but to end as a starting end to work with democrats on the democratic tax overhaul bill by republicans after the house administration committee the bill would violate new york residents’ rights to due process and equal protection the sweeping republican tax bill signed into law by u s president donald trump as soon\n",
            "\u001b[1m1/1\u001b[0m \u001b[32m━━━━━━━━━━━━━━━━━━━━\u001b[0m\u001b[37m\u001b[0m \u001b[1m0s\u001b[0m 63ms/step\n",
            "America is to make conservative members of u s district judge george ruled that the president will vote again but to end as a starting end to work with democrats on the democratic tax overhaul bill by republicans after the house administration committee the bill would violate new york residents’ rights to due process and equal protection the sweeping republican tax bill signed into law by u s president donald trump as soon as\n",
            "\u001b[1m1/1\u001b[0m \u001b[32m━━━━━━━━━━━━━━━━━━━━\u001b[0m\u001b[37m\u001b[0m \u001b[1m0s\u001b[0m 69ms/step\n",
            "America is to make conservative members of u s district judge george ruled that the president will vote again but to end as a starting end to work with democrats on the democratic tax overhaul bill by republicans after the house administration committee the bill would violate new york residents’ rights to due process and equal protection the sweeping republican tax bill signed into law by u s president donald trump as soon as a\n",
            "\u001b[1m1/1\u001b[0m \u001b[32m━━━━━━━━━━━━━━━━━━━━\u001b[0m\u001b[37m\u001b[0m \u001b[1m0s\u001b[0m 60ms/step\n",
            "America is to make conservative members of u s district judge george ruled that the president will vote again but to end as a starting end to work with democrats on the democratic tax overhaul bill by republicans after the house administration committee the bill would violate new york residents’ rights to due process and equal protection the sweeping republican tax bill signed into law by u s president donald trump as soon as a significant\n",
            "\u001b[1m1/1\u001b[0m \u001b[32m━━━━━━━━━━━━━━━━━━━━\u001b[0m\u001b[37m\u001b[0m \u001b[1m0s\u001b[0m 81ms/step\n",
            "America is to make conservative members of u s district judge george ruled that the president will vote again but to end as a starting end to work with democrats on the democratic tax overhaul bill by republicans after the house administration committee the bill would violate new york residents’ rights to due process and equal protection the sweeping republican tax bill signed into law by u s president donald trump as soon as a significant set\n",
            "\u001b[1m1/1\u001b[0m \u001b[32m━━━━━━━━━━━━━━━━━━━━\u001b[0m\u001b[37m\u001b[0m \u001b[1m0s\u001b[0m 76ms/step\n",
            "America is to make conservative members of u s district judge george ruled that the president will vote again but to end as a starting end to work with democrats on the democratic tax overhaul bill by republicans after the house administration committee the bill would violate new york residents’ rights to due process and equal protection the sweeping republican tax bill signed into law by u s president donald trump as soon as a significant set of\n",
            "\u001b[1m1/1\u001b[0m \u001b[32m━━━━━━━━━━━━━━━━━━━━\u001b[0m\u001b[37m\u001b[0m \u001b[1m0s\u001b[0m 73ms/step\n",
            "America is to make conservative members of u s district judge george ruled that the president will vote again but to end as a starting end to work with democrats on the democratic tax overhaul bill by republicans after the house administration committee the bill would violate new york residents’ rights to due process and equal protection the sweeping republican tax bill signed into law by u s president donald trump as soon as a significant set of a\n",
            "\u001b[1m1/1\u001b[0m \u001b[32m━━━━━━━━━━━━━━━━━━━━\u001b[0m\u001b[37m\u001b[0m \u001b[1m0s\u001b[0m 68ms/step\n",
            "America is to make conservative members of u s district judge george ruled that the president will vote again but to end as a starting end to work with democrats on the democratic tax overhaul bill by republicans after the house administration committee the bill would violate new york residents’ rights to due process and equal protection the sweeping republican tax bill signed into law by u s president donald trump as soon as a significant set of a vote\n",
            "\u001b[1m1/1\u001b[0m \u001b[32m━━━━━━━━━━━━━━━━━━━━\u001b[0m\u001b[37m\u001b[0m \u001b[1m0s\u001b[0m 50ms/step\n",
            "America is to make conservative members of u s district judge george ruled that the president will vote again but to end as a starting end to work with democrats on the democratic tax overhaul bill by republicans after the house administration committee the bill would violate new york residents’ rights to due process and equal protection the sweeping republican tax bill signed into law by u s president donald trump as soon as a significant set of a vote on\n",
            "\u001b[1m1/1\u001b[0m \u001b[32m━━━━━━━━━━━━━━━━━━━━\u001b[0m\u001b[37m\u001b[0m \u001b[1m0s\u001b[0m 49ms/step\n",
            "America is to make conservative members of u s district judge george ruled that the president will vote again but to end as a starting end to work with democrats on the democratic tax overhaul bill by republicans after the house administration committee the bill would violate new york residents’ rights to due process and equal protection the sweeping republican tax bill signed into law by u s president donald trump as soon as a significant set of a vote on the\n",
            "\u001b[1m1/1\u001b[0m \u001b[32m━━━━━━━━━━━━━━━━━━━━\u001b[0m\u001b[37m\u001b[0m \u001b[1m0s\u001b[0m 49ms/step\n",
            "America is to make conservative members of u s district judge george ruled that the president will vote again but to end as a starting end to work with democrats on the democratic tax overhaul bill by republicans after the house administration committee the bill would violate new york residents’ rights to due process and equal protection the sweeping republican tax bill signed into law by u s president donald trump as soon as a significant set of a vote on the senate\n",
            "\u001b[1m1/1\u001b[0m \u001b[32m━━━━━━━━━━━━━━━━━━━━\u001b[0m\u001b[37m\u001b[0m \u001b[1m0s\u001b[0m 48ms/step\n",
            "America is to make conservative members of u s district judge george ruled that the president will vote again but to end as a starting end to work with democrats on the democratic tax overhaul bill by republicans after the house administration committee the bill would violate new york residents’ rights to due process and equal protection the sweeping republican tax bill signed into law by u s president donald trump as soon as a significant set of a vote on the senate after\n",
            "\u001b[1m1/1\u001b[0m \u001b[32m━━━━━━━━━━━━━━━━━━━━\u001b[0m\u001b[37m\u001b[0m \u001b[1m0s\u001b[0m 48ms/step\n",
            "America is to make conservative members of u s district judge george ruled that the president will vote again but to end as a starting end to work with democrats on the democratic tax overhaul bill by republicans after the house administration committee the bill would violate new york residents’ rights to due process and equal protection the sweeping republican tax bill signed into law by u s president donald trump as soon as a significant set of a vote on the senate after the\n",
            "\u001b[1m1/1\u001b[0m \u001b[32m━━━━━━━━━━━━━━━━━━━━\u001b[0m\u001b[37m\u001b[0m \u001b[1m0s\u001b[0m 48ms/step\n",
            "America is to make conservative members of u s district judge george ruled that the president will vote again but to end as a starting end to work with democrats on the democratic tax overhaul bill by republicans after the house administration committee the bill would violate new york residents’ rights to due process and equal protection the sweeping republican tax bill signed into law by u s president donald trump as soon as a significant set of a vote on the senate after the three\n",
            "\u001b[1m1/1\u001b[0m \u001b[32m━━━━━━━━━━━━━━━━━━━━\u001b[0m\u001b[37m\u001b[0m \u001b[1m0s\u001b[0m 49ms/step\n",
            "America is to make conservative members of u s district judge george ruled that the president will vote again but to end as a starting end to work with democrats on the democratic tax overhaul bill by republicans after the house administration committee the bill would violate new york residents’ rights to due process and equal protection the sweeping republican tax bill signed into law by u s president donald trump as soon as a significant set of a vote on the senate after the three judge\n",
            "\u001b[1m1/1\u001b[0m \u001b[32m━━━━━━━━━━━━━━━━━━━━\u001b[0m\u001b[37m\u001b[0m \u001b[1m0s\u001b[0m 50ms/step\n",
            "America is to make conservative members of u s district judge george ruled that the president will vote again but to end as a starting end to work with democrats on the democratic tax overhaul bill by republicans after the house administration committee the bill would violate new york residents’ rights to due process and equal protection the sweeping republican tax bill signed into law by u s president donald trump as soon as a significant set of a vote on the senate after the three judge panel\n",
            "\u001b[1m1/1\u001b[0m \u001b[32m━━━━━━━━━━━━━━━━━━━━\u001b[0m\u001b[37m\u001b[0m \u001b[1m0s\u001b[0m 49ms/step\n",
            "America is to make conservative members of u s district judge george ruled that the president will vote again but to end as a starting end to work with democrats on the democratic tax overhaul bill by republicans after the house administration committee the bill would violate new york residents’ rights to due process and equal protection the sweeping republican tax bill signed into law by u s president donald trump as soon as a significant set of a vote on the senate after the three judge panel of\n",
            "\u001b[1m1/1\u001b[0m \u001b[32m━━━━━━━━━━━━━━━━━━━━\u001b[0m\u001b[37m\u001b[0m \u001b[1m0s\u001b[0m 51ms/step\n",
            "America is to make conservative members of u s district judge george ruled that the president will vote again but to end as a starting end to work with democrats on the democratic tax overhaul bill by republicans after the house administration committee the bill would violate new york residents’ rights to due process and equal protection the sweeping republican tax bill signed into law by u s president donald trump as soon as a significant set of a vote on the senate after the three judge panel of the\n",
            "\u001b[1m1/1\u001b[0m \u001b[32m━━━━━━━━━━━━━━━━━━━━\u001b[0m\u001b[37m\u001b[0m \u001b[1m0s\u001b[0m 53ms/step\n",
            "America is to make conservative members of u s district judge george ruled that the president will vote again but to end as a starting end to work with democrats on the democratic tax overhaul bill by republicans after the house administration committee the bill would violate new york residents’ rights to due process and equal protection the sweeping republican tax bill signed into law by u s president donald trump as soon as a significant set of a vote on the senate after the three judge panel of the court\n",
            "\u001b[1m1/1\u001b[0m \u001b[32m━━━━━━━━━━━━━━━━━━━━\u001b[0m\u001b[37m\u001b[0m \u001b[1m0s\u001b[0m 48ms/step\n",
            "America is to make conservative members of u s district judge george ruled that the president will vote again but to end as a starting end to work with democrats on the democratic tax overhaul bill by republicans after the house administration committee the bill would violate new york residents’ rights to due process and equal protection the sweeping republican tax bill signed into law by u s president donald trump as soon as a significant set of a vote on the senate after the three judge panel of the court in\n",
            "\u001b[1m1/1\u001b[0m \u001b[32m━━━━━━━━━━━━━━━━━━━━\u001b[0m\u001b[37m\u001b[0m \u001b[1m0s\u001b[0m 49ms/step\n",
            "America is to make conservative members of u s district judge george ruled that the president will vote again but to end as a starting end to work with democrats on the democratic tax overhaul bill by republicans after the house administration committee the bill would violate new york residents’ rights to due process and equal protection the sweeping republican tax bill signed into law by u s president donald trump as soon as a significant set of a vote on the senate after the three judge panel of the court in boston\n",
            "\u001b[1m1/1\u001b[0m \u001b[32m━━━━━━━━━━━━━━━━━━━━\u001b[0m\u001b[37m\u001b[0m \u001b[1m0s\u001b[0m 49ms/step\n",
            "America is to make conservative members of u s district judge george ruled that the president will vote again but to end as a starting end to work with democrats on the democratic tax overhaul bill by republicans after the house administration committee the bill would violate new york residents’ rights to due process and equal protection the sweeping republican tax bill signed into law by u s president donald trump as soon as a significant set of a vote on the senate after the three judge panel of the court in boston in\n",
            "\u001b[1m1/1\u001b[0m \u001b[32m━━━━━━━━━━━━━━━━━━━━\u001b[0m\u001b[37m\u001b[0m \u001b[1m0s\u001b[0m 50ms/step\n",
            "America is to make conservative members of u s district judge george ruled that the president will vote again but to end as a starting end to work with democrats on the democratic tax overhaul bill by republicans after the house administration committee the bill would violate new york residents’ rights to due process and equal protection the sweeping republican tax bill signed into law by u s president donald trump as soon as a significant set of a vote on the senate after the three judge panel of the court in boston in the\n",
            "\u001b[1m1/1\u001b[0m \u001b[32m━━━━━━━━━━━━━━━━━━━━\u001b[0m\u001b[37m\u001b[0m \u001b[1m0s\u001b[0m 50ms/step\n",
            "America is to make conservative members of u s district judge george ruled that the president will vote again but to end as a starting end to work with democrats on the democratic tax overhaul bill by republicans after the house administration committee the bill would violate new york residents’ rights to due process and equal protection the sweeping republican tax bill signed into law by u s president donald trump as soon as a significant set of a vote on the senate after the three judge panel of the court in boston in the meantime\n",
            "\u001b[1m1/1\u001b[0m \u001b[32m━━━━━━━━━━━━━━━━━━━━\u001b[0m\u001b[37m\u001b[0m \u001b[1m0s\u001b[0m 50ms/step\n",
            "America is to make conservative members of u s district judge george ruled that the president will vote again but to end as a starting end to work with democrats on the democratic tax overhaul bill by republicans after the house administration committee the bill would violate new york residents’ rights to due process and equal protection the sweeping republican tax bill signed into law by u s president donald trump as soon as a significant set of a vote on the senate after the three judge panel of the court in boston in the meantime ”\n",
            "\u001b[1m1/1\u001b[0m \u001b[32m━━━━━━━━━━━━━━━━━━━━\u001b[0m\u001b[37m\u001b[0m \u001b[1m0s\u001b[0m 50ms/step\n",
            "America is to make conservative members of u s district judge george ruled that the president will vote again but to end as a starting end to work with democrats on the democratic tax overhaul bill by republicans after the house administration committee the bill would violate new york residents’ rights to due process and equal protection the sweeping republican tax bill signed into law by u s president donald trump as soon as a significant set of a vote on the senate after the three judge panel of the court in boston in the meantime ” said\n",
            "\u001b[1m1/1\u001b[0m \u001b[32m━━━━━━━━━━━━━━━━━━━━\u001b[0m\u001b[37m\u001b[0m \u001b[1m0s\u001b[0m 53ms/step\n",
            "America is to make conservative members of u s district judge george ruled that the president will vote again but to end as a starting end to work with democrats on the democratic tax overhaul bill by republicans after the house administration committee the bill would violate new york residents’ rights to due process and equal protection the sweeping republican tax bill signed into law by u s president donald trump as soon as a significant set of a vote on the senate after the three judge panel of the court in boston in the meantime ” said in\n",
            "\u001b[1m1/1\u001b[0m \u001b[32m━━━━━━━━━━━━━━━━━━━━\u001b[0m\u001b[37m\u001b[0m \u001b[1m0s\u001b[0m 52ms/step\n",
            "America is to make conservative members of u s district judge george ruled that the president will vote again but to end as a starting end to work with democrats on the democratic tax overhaul bill by republicans after the house administration committee the bill would violate new york residents’ rights to due process and equal protection the sweeping republican tax bill signed into law by u s president donald trump as soon as a significant set of a vote on the senate after the three judge panel of the court in boston in the meantime ” said in the\n",
            "\u001b[1m1/1\u001b[0m \u001b[32m━━━━━━━━━━━━━━━━━━━━\u001b[0m\u001b[37m\u001b[0m \u001b[1m0s\u001b[0m 51ms/step\n",
            "America is to make conservative members of u s district judge george ruled that the president will vote again but to end as a starting end to work with democrats on the democratic tax overhaul bill by republicans after the house administration committee the bill would violate new york residents’ rights to due process and equal protection the sweeping republican tax bill signed into law by u s president donald trump as soon as a significant set of a vote on the senate after the three judge panel of the court in boston in the meantime ” said in the rule\n",
            "\u001b[1m1/1\u001b[0m \u001b[32m━━━━━━━━━━━━━━━━━━━━\u001b[0m\u001b[37m\u001b[0m \u001b[1m0s\u001b[0m 49ms/step\n",
            "America is to make conservative members of u s district judge george ruled that the president will vote again but to end as a starting end to work with democrats on the democratic tax overhaul bill by republicans after the house administration committee the bill would violate new york residents’ rights to due process and equal protection the sweeping republican tax bill signed into law by u s president donald trump as soon as a significant set of a vote on the senate after the three judge panel of the court in boston in the meantime ” said in the rule of\n"
          ]
        }
      ]
    },
    {
      "cell_type": "code",
      "source": [],
      "metadata": {
        "id": "PoW0AbAGN5t1"
      },
      "execution_count": null,
      "outputs": []
    }
  ]
}